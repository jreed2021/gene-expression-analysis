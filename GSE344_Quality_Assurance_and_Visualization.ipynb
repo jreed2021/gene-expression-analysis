{
 "cells": [
  {
   "cell_type": "code",
   "execution_count": 1,
   "id": "3ba80738-0651-4a95-8e7d-dc4bf2b50196",
   "metadata": {},
   "outputs": [
    {
     "name": "stderr",
     "output_type": "stream",
     "text": [
      "17-Feb-2025 18:59:47 DEBUG utils - Directory ./ already exists. Skipping.\n",
      "17-Feb-2025 18:59:47 INFO GEOparse - Downloading ftp://ftp.ncbi.nlm.nih.gov/geo/series/GSEnnn/GSE344/soft/GSE344_family.soft.gz to ./GSE344_family.soft.gz\n",
      "100%|██████████████████████████████████████████| 7.29M/7.29M [00:01<00:00, 6.76MB/s]\n",
      "17-Feb-2025 18:59:49 DEBUG downloader - Size validation passed\n",
      "17-Feb-2025 18:59:49 DEBUG downloader - Moving C:\\Users\\reedj\\AppData\\Local\\Temp\\tmpy72st5kf to C:\\Users\\reedj\\OneDrive\\Desktop\\bio_data_governance\\GSE344_family.soft.gz\n",
      "17-Feb-2025 18:59:49 DEBUG downloader - Successfully downloaded ftp://ftp.ncbi.nlm.nih.gov/geo/series/GSEnnn/GSE344/soft/GSE344_family.soft.gz\n",
      "17-Feb-2025 18:59:49 INFO GEOparse - Parsing ./GSE344_family.soft.gz: \n",
      "17-Feb-2025 18:59:49 DEBUG GEOparse - DATABASE: GeoMiame\n",
      "17-Feb-2025 18:59:49 DEBUG GEOparse - SERIES: GSE344\n",
      "17-Feb-2025 18:59:49 DEBUG GEOparse - PLATFORM: GPL273\n",
      "17-Feb-2025 18:59:49 DEBUG GEOparse - PLATFORM: GPL274\n",
      "17-Feb-2025 18:59:49 DEBUG GEOparse - PLATFORM: GPL8300\n",
      "17-Feb-2025 18:59:50 DEBUG GEOparse - SAMPLE: GSM4843\n",
      "17-Feb-2025 18:59:50 DEBUG GEOparse - SAMPLE: GSM4844\n",
      "17-Feb-2025 18:59:50 DEBUG GEOparse - SAMPLE: GSM4845\n",
      "17-Feb-2025 18:59:50 DEBUG GEOparse - SAMPLE: GSM4846\n",
      "17-Feb-2025 18:59:50 DEBUG GEOparse - SAMPLE: GSM4847\n",
      "17-Feb-2025 18:59:50 DEBUG GEOparse - SAMPLE: GSM4848\n",
      "17-Feb-2025 18:59:50 DEBUG GEOparse - SAMPLE: GSM4849\n",
      "17-Feb-2025 18:59:50 DEBUG GEOparse - SAMPLE: GSM4850\n",
      "17-Feb-2025 18:59:50 DEBUG GEOparse - SAMPLE: GSM4851\n",
      "17-Feb-2025 18:59:50 DEBUG GEOparse - SAMPLE: GSM4852\n",
      "17-Feb-2025 18:59:51 DEBUG GEOparse - SAMPLE: GSM4853\n",
      "17-Feb-2025 18:59:51 DEBUG GEOparse - SAMPLE: GSM4854\n",
      "17-Feb-2025 18:59:51 DEBUG GEOparse - SAMPLE: GSM4855\n",
      "17-Feb-2025 18:59:51 DEBUG GEOparse - SAMPLE: GSM4856\n",
      "17-Feb-2025 18:59:51 DEBUG GEOparse - SAMPLE: GSM4857\n",
      "17-Feb-2025 18:59:51 DEBUG GEOparse - SAMPLE: GSM4858\n",
      "17-Feb-2025 18:59:51 DEBUG GEOparse - SAMPLE: GSM4859\n",
      "17-Feb-2025 18:59:51 DEBUG GEOparse - SAMPLE: GSM4860\n",
      "17-Feb-2025 18:59:51 DEBUG GEOparse - SAMPLE: GSM4861\n",
      "17-Feb-2025 18:59:51 DEBUG GEOparse - SAMPLE: GSM4862\n",
      "17-Feb-2025 18:59:51 DEBUG GEOparse - SAMPLE: GSM4863\n",
      "17-Feb-2025 18:59:51 DEBUG GEOparse - SAMPLE: GSM4864\n",
      "17-Feb-2025 18:59:51 DEBUG GEOparse - SAMPLE: GSM4865\n"
     ]
    },
    {
     "name": "stdout",
     "output_type": "stream",
     "text": [
      "{'title': ['Spotted long oligonucleotide arrays'], 'geo_accession': ['GSE344'], 'status': ['Public on Mar 18 2003'], 'submission_date': ['Mar 17 2003'], 'last_update_date': ['Dec 13 2018'], 'pubmed_id': ['12805270'], 'summary': ['Both spotted long oligonucleotide arrays and Affymetrix GeneChips were used to measure differential gene expression in two RNA samples (K562 erythroleukemia RNA and the Stratagene Universal Human Reference RNA).', '', 'For Affymetrix technology, the two RNAs were analyzed separately. There are two replicates for K562 RNA (GSM4843 and GSM4844) and three for the Stratagene Universal reference (GSM4845-GSM4847).', '', 'Two types of spotted long oligonucleotide arrays were used. These arrays were used to do two-color hybridizations to directly compare K562 and Universal reference RNAs.', '', 'One array (GPL273) was made with probes from the Operon Human Genome Oligo Set Version 1. These arrays were used with unamplified cDNA probes (6 replicates, GSM4848-GSM4853), with aRNA probes produced by one round of T7 RNA polymerase-based amplification (6 replicates, GSM4854-GSM4859), and with aRNA probes produced by two rounds of amplification (2 replicates, GSM4860-GSM4861).', 'Keywords: parallel sample'], 'type': ['Expression profiling by array'], 'contributor': ['A,,Barczak', 'M,W,Rodriguez', 'K,,Hanspers', 'L,L,Koth', 'Y,C,Tai', 'B,M,Bolstad', 'T,P,Speed', 'D,J,Erle'], 'sample_id': ['GSM4843', 'GSM4844', 'GSM4845', 'GSM4846', 'GSM4847', 'GSM4848', 'GSM4849', 'GSM4850', 'GSM4851', 'GSM4852', 'GSM4853', 'GSM4854', 'GSM4855', 'GSM4856', 'GSM4857', 'GSM4858', 'GSM4859', 'GSM4860', 'GSM4861', 'GSM4862', 'GSM4863', 'GSM4864', 'GSM4865'], 'contact_name': ['David,J,Erle'], 'contact_email': ['erle@itsa.ucsf.edu'], 'contact_phone': ['415-206-5905'], 'contact_laboratory': ['Shared Microarray Facility'], 'contact_department': ['Medicine'], 'contact_institute': ['University of California San Francisco'], 'contact_address': ['Box 0854'], 'contact_city': ['San Francisco'], 'contact_state': ['CA'], 'contact_zip/postal_code': ['94143-0854'], 'contact_country': ['USA'], 'contact_web_link': ['http://arrays.ucsf.edu'], 'supplementary_file': ['ftp://ftp.ncbi.nlm.nih.gov/geo/series/GSEnnn/GSE344/suppl/GSE344_RAW.tar'], 'platform_id': ['GPL273', 'GPL274', 'GPL8300'], 'platform_taxid': ['9606'], 'sample_taxid': ['9606'], 'relation': ['BioProject: https://www.ncbi.nlm.nih.gov/bioproject/PRJNA84827']}\n"
     ]
    }
   ],
   "source": [
    "import GEOparse\n",
    "\n",
    "#Using Microarray breast cancer dataset\n",
    "geo_id = \"GSE344\"\n",
    "\n",
    "#Download and parse the dataset\n",
    "gse = GEOparse.get_GEO(geo=geo_id, destdir=\"./\")\n",
    "\n",
    "#Print metadata\n",
    "print(gse.metadata)"
   ]
  },
  {
   "cell_type": "code",
   "execution_count": 2,
   "id": "90e85b03-0b04-4f10-ab21-e65c5cd5634c",
   "metadata": {},
   "outputs": [
    {
     "name": "stdout",
     "output_type": "stream",
     "text": [
      "['.ipynb_checkpoints', 'datagove_env', 'GSE255647_family.soft.gz', 'GSE344_family.soft.gz', 'Untitled.ipynb', 'Untitled1.ipynb']\n"
     ]
    }
   ],
   "source": [
    "import os\n",
    "\n",
    "#Confirm name of the dataset\n",
    "print(os.listdir(\"./\"))"
   ]
  },
  {
   "cell_type": "code",
   "execution_count": 4,
   "id": "1db8927e-9737-4479-9bf7-1b0b47ac4247",
   "metadata": {},
   "outputs": [
    {
     "ename": "ParserError",
     "evalue": "Error tokenizing data. C error: Expected 1 fields in line 109, saw 8\n",
     "output_type": "error",
     "traceback": [
      "\u001b[1;31m---------------------------------------------------------------------------\u001b[0m",
      "\u001b[1;31mParserError\u001b[0m                               Traceback (most recent call last)",
      "Cell \u001b[1;32mIn[4], line 7\u001b[0m\n\u001b[0;32m      4\u001b[0m series_matrix_file \u001b[38;5;241m=\u001b[39m \u001b[38;5;124m\"\u001b[39m\u001b[38;5;124m./GSE344_family.soft.gz\u001b[39m\u001b[38;5;124m\"\u001b[39m\n\u001b[0;32m      6\u001b[0m \u001b[38;5;66;03m#Load the dataset \u001b[39;00m\n\u001b[1;32m----> 7\u001b[0m df \u001b[38;5;241m=\u001b[39m \u001b[43mpd\u001b[49m\u001b[38;5;241;43m.\u001b[39;49m\u001b[43mread_csv\u001b[49m\u001b[43m(\u001b[49m\u001b[43mseries_matrix_file\u001b[49m\u001b[43m,\u001b[49m\u001b[43m \u001b[49m\u001b[43msep\u001b[49m\u001b[38;5;241;43m=\u001b[39;49m\u001b[38;5;124;43m\"\u001b[39;49m\u001b[38;5;130;43;01m\\t\u001b[39;49;00m\u001b[38;5;124;43m\"\u001b[39;49m\u001b[43m,\u001b[49m\u001b[43m \u001b[49m\u001b[43mcomment\u001b[49m\u001b[38;5;241;43m=\u001b[39;49m\u001b[38;5;124;43m\"\u001b[39;49m\u001b[38;5;124;43m!\u001b[39;49m\u001b[38;5;124;43m\"\u001b[39;49m\u001b[43m,\u001b[49m\u001b[43m \u001b[49m\u001b[43mindex_col\u001b[49m\u001b[38;5;241;43m=\u001b[39;49m\u001b[38;5;241;43m0\u001b[39;49m\u001b[43m)\u001b[49m\n\u001b[0;32m      9\u001b[0m \u001b[38;5;66;03m#Display the first 5 rows\u001b[39;00m\n\u001b[0;32m     10\u001b[0m df\u001b[38;5;241m.\u001b[39mhead()\n",
      "File \u001b[1;32m~\\OneDrive\\Desktop\\bio_data_governance\\datagove_env\\lib\\site-packages\\pandas\\io\\parsers\\readers.py:1026\u001b[0m, in \u001b[0;36mread_csv\u001b[1;34m(filepath_or_buffer, sep, delimiter, header, names, index_col, usecols, dtype, engine, converters, true_values, false_values, skipinitialspace, skiprows, skipfooter, nrows, na_values, keep_default_na, na_filter, verbose, skip_blank_lines, parse_dates, infer_datetime_format, keep_date_col, date_parser, date_format, dayfirst, cache_dates, iterator, chunksize, compression, thousands, decimal, lineterminator, quotechar, quoting, doublequote, escapechar, comment, encoding, encoding_errors, dialect, on_bad_lines, delim_whitespace, low_memory, memory_map, float_precision, storage_options, dtype_backend)\u001b[0m\n\u001b[0;32m   1013\u001b[0m kwds_defaults \u001b[38;5;241m=\u001b[39m _refine_defaults_read(\n\u001b[0;32m   1014\u001b[0m     dialect,\n\u001b[0;32m   1015\u001b[0m     delimiter,\n\u001b[1;32m   (...)\u001b[0m\n\u001b[0;32m   1022\u001b[0m     dtype_backend\u001b[38;5;241m=\u001b[39mdtype_backend,\n\u001b[0;32m   1023\u001b[0m )\n\u001b[0;32m   1024\u001b[0m kwds\u001b[38;5;241m.\u001b[39mupdate(kwds_defaults)\n\u001b[1;32m-> 1026\u001b[0m \u001b[38;5;28;01mreturn\u001b[39;00m \u001b[43m_read\u001b[49m\u001b[43m(\u001b[49m\u001b[43mfilepath_or_buffer\u001b[49m\u001b[43m,\u001b[49m\u001b[43m \u001b[49m\u001b[43mkwds\u001b[49m\u001b[43m)\u001b[49m\n",
      "File \u001b[1;32m~\\OneDrive\\Desktop\\bio_data_governance\\datagove_env\\lib\\site-packages\\pandas\\io\\parsers\\readers.py:626\u001b[0m, in \u001b[0;36m_read\u001b[1;34m(filepath_or_buffer, kwds)\u001b[0m\n\u001b[0;32m    623\u001b[0m     \u001b[38;5;28;01mreturn\u001b[39;00m parser\n\u001b[0;32m    625\u001b[0m \u001b[38;5;28;01mwith\u001b[39;00m parser:\n\u001b[1;32m--> 626\u001b[0m     \u001b[38;5;28;01mreturn\u001b[39;00m \u001b[43mparser\u001b[49m\u001b[38;5;241;43m.\u001b[39;49m\u001b[43mread\u001b[49m\u001b[43m(\u001b[49m\u001b[43mnrows\u001b[49m\u001b[43m)\u001b[49m\n",
      "File \u001b[1;32m~\\OneDrive\\Desktop\\bio_data_governance\\datagove_env\\lib\\site-packages\\pandas\\io\\parsers\\readers.py:1923\u001b[0m, in \u001b[0;36mTextFileReader.read\u001b[1;34m(self, nrows)\u001b[0m\n\u001b[0;32m   1916\u001b[0m nrows \u001b[38;5;241m=\u001b[39m validate_integer(\u001b[38;5;124m\"\u001b[39m\u001b[38;5;124mnrows\u001b[39m\u001b[38;5;124m\"\u001b[39m, nrows)\n\u001b[0;32m   1917\u001b[0m \u001b[38;5;28;01mtry\u001b[39;00m:\n\u001b[0;32m   1918\u001b[0m     \u001b[38;5;66;03m# error: \"ParserBase\" has no attribute \"read\"\u001b[39;00m\n\u001b[0;32m   1919\u001b[0m     (\n\u001b[0;32m   1920\u001b[0m         index,\n\u001b[0;32m   1921\u001b[0m         columns,\n\u001b[0;32m   1922\u001b[0m         col_dict,\n\u001b[1;32m-> 1923\u001b[0m     ) \u001b[38;5;241m=\u001b[39m \u001b[38;5;28;43mself\u001b[39;49m\u001b[38;5;241;43m.\u001b[39;49m\u001b[43m_engine\u001b[49m\u001b[38;5;241;43m.\u001b[39;49m\u001b[43mread\u001b[49m\u001b[43m(\u001b[49m\u001b[43m  \u001b[49m\u001b[38;5;66;43;03m# type: ignore[attr-defined]\u001b[39;49;00m\n\u001b[0;32m   1924\u001b[0m \u001b[43m        \u001b[49m\u001b[43mnrows\u001b[49m\n\u001b[0;32m   1925\u001b[0m \u001b[43m    \u001b[49m\u001b[43m)\u001b[49m\n\u001b[0;32m   1926\u001b[0m \u001b[38;5;28;01mexcept\u001b[39;00m \u001b[38;5;167;01mException\u001b[39;00m:\n\u001b[0;32m   1927\u001b[0m     \u001b[38;5;28mself\u001b[39m\u001b[38;5;241m.\u001b[39mclose()\n",
      "File \u001b[1;32m~\\OneDrive\\Desktop\\bio_data_governance\\datagove_env\\lib\\site-packages\\pandas\\io\\parsers\\c_parser_wrapper.py:234\u001b[0m, in \u001b[0;36mCParserWrapper.read\u001b[1;34m(self, nrows)\u001b[0m\n\u001b[0;32m    232\u001b[0m \u001b[38;5;28;01mtry\u001b[39;00m:\n\u001b[0;32m    233\u001b[0m     \u001b[38;5;28;01mif\u001b[39;00m \u001b[38;5;28mself\u001b[39m\u001b[38;5;241m.\u001b[39mlow_memory:\n\u001b[1;32m--> 234\u001b[0m         chunks \u001b[38;5;241m=\u001b[39m \u001b[38;5;28;43mself\u001b[39;49m\u001b[38;5;241;43m.\u001b[39;49m\u001b[43m_reader\u001b[49m\u001b[38;5;241;43m.\u001b[39;49m\u001b[43mread_low_memory\u001b[49m\u001b[43m(\u001b[49m\u001b[43mnrows\u001b[49m\u001b[43m)\u001b[49m\n\u001b[0;32m    235\u001b[0m         \u001b[38;5;66;03m# destructive to chunks\u001b[39;00m\n\u001b[0;32m    236\u001b[0m         data \u001b[38;5;241m=\u001b[39m _concatenate_chunks(chunks)\n",
      "File \u001b[1;32mparsers.pyx:838\u001b[0m, in \u001b[0;36mpandas._libs.parsers.TextReader.read_low_memory\u001b[1;34m()\u001b[0m\n",
      "File \u001b[1;32mparsers.pyx:905\u001b[0m, in \u001b[0;36mpandas._libs.parsers.TextReader._read_rows\u001b[1;34m()\u001b[0m\n",
      "File \u001b[1;32mparsers.pyx:874\u001b[0m, in \u001b[0;36mpandas._libs.parsers.TextReader._tokenize_rows\u001b[1;34m()\u001b[0m\n",
      "File \u001b[1;32mparsers.pyx:891\u001b[0m, in \u001b[0;36mpandas._libs.parsers.TextReader._check_tokenize_status\u001b[1;34m()\u001b[0m\n",
      "File \u001b[1;32mparsers.pyx:2061\u001b[0m, in \u001b[0;36mpandas._libs.parsers.raise_parser_error\u001b[1;34m()\u001b[0m\n",
      "\u001b[1;31mParserError\u001b[0m: Error tokenizing data. C error: Expected 1 fields in line 109, saw 8\n"
     ]
    }
   ],
   "source": [
    "import pandas as pd\n",
    "\n",
    "#Locate the series matrix file\n",
    "series_matrix_file = \"./GSE344_family.soft.gz\"\n",
    "\n",
    "#Load the dataset \n",
    "df = pd.read_csv(series_matrix_file, sep=\"\\t\", comment=\"!\", index_col=0)\n",
    "\n",
    "#Display the first 5 rows\n",
    "df.head()\n"
   ]
  },
  {
   "cell_type": "code",
   "execution_count": 5,
   "id": "ce12ac79-1623-4f2a-ace9-3b5f3e032c3c",
   "metadata": {},
   "outputs": [
    {
     "name": "stdout",
     "output_type": "stream",
     "text": [
      "^DATABASE = GeoMiame\n",
      "!Database_name = Gene Expression Omnibus (GEO)\n",
      "!Database_institute = NCBI NLM NIH\n",
      "!Database_web_link = http://www.ncbi.nlm.nih.gov/geo\n",
      "!Database_email = geo@ncbi.nlm.nih.gov\n",
      "^SERIES = GSE344\n",
      "!Series_title = Spotted long oligonucleotide arrays\n",
      "!Series_geo_accession = GSE344\n",
      "!Series_status = Public on Mar 18 2003\n",
      "!Series_submission_date = Mar 17 2003\n",
      "!Series_last_update_date = Dec 13 2018\n",
      "!Series_pubmed_id = 12805270\n",
      "!Series_summary = Both spotted long oligonucleotide arrays and Affymetrix GeneChips were used to measure differential gene expression in two RNA samples (K562 erythroleukemia RNA and the Stratagene Universal Human Reference RNA).\n",
      "!Series_summary =\n",
      "!Series_summary = For Affymetrix technology, the two RNAs were analyzed separately. There are two replicates for K562 RNA (GSM4843 and GSM4844) and three for the Stratagene Universal reference (GSM4845-GSM4847).\n",
      "!Series_summary =\n",
      "!Series_summary = Two types of spotted long oligonucleotide arrays were used. These arrays were used to do two-color hybridizations to directly compare K562 and Universal reference RNAs.\n",
      "!Series_summary =\n",
      "!Series_summary = One array (GPL273) was made with probes from the Operon Human Genome Oligo Set Version 1. These arrays were used with unamplified cDNA probes (6 replicates, GSM4848-GSM4853), with aRNA probes produced by one round of T7 RNA polymerase-based amplification (6 replicates, GSM4854-GSM4859), and with aRNA probes produced by two rounds of amplification (2 replicates, GSM4860-GSM4861).\n",
      "!Series_summary = Keywords: parallel sample\n"
     ]
    }
   ],
   "source": [
    "import gzip\n",
    "\n",
    "#Open the file and readthe first few lines\n",
    "with gzip.open(\"./GSE344_family.soft.gz\", \"rt\") as f:\n",
    "    for i in range(20): \n",
    "        print(f.readline().strip())"
   ]
  },
  {
   "cell_type": "code",
   "execution_count": 6,
   "id": "5f571c54-490e-4e7c-a40b-3a1beb419709",
   "metadata": {},
   "outputs": [
    {
     "ename": "IndexError",
     "evalue": "list index out of range",
     "output_type": "error",
     "traceback": [
      "\u001b[1;31m---------------------------------------------------------------------------\u001b[0m",
      "\u001b[1;31mIndexError\u001b[0m                                Traceback (most recent call last)",
      "Cell \u001b[1;32mIn[6], line 11\u001b[0m\n\u001b[0;32m      8\u001b[0m     lines \u001b[38;5;241m=\u001b[39m f\u001b[38;5;241m.\u001b[39mreadlines()\n\u001b[0;32m     10\u001b[0m \u001b[38;5;66;03m#Find where the table starts\u001b[39;00m\n\u001b[1;32m---> 11\u001b[0m start_index \u001b[38;5;241m=\u001b[39m \u001b[43m[\u001b[49m\u001b[43mi\u001b[49m\u001b[43m \u001b[49m\u001b[38;5;28;43;01mfor\u001b[39;49;00m\u001b[43m \u001b[49m\u001b[43mi\u001b[49m\u001b[43m,\u001b[49m\u001b[43m \u001b[49m\u001b[43mline\u001b[49m\u001b[43m \u001b[49m\u001b[38;5;129;43;01min\u001b[39;49;00m\u001b[43m \u001b[49m\u001b[38;5;28;43menumerate\u001b[39;49m\u001b[43m(\u001b[49m\u001b[43mlines\u001b[49m\u001b[43m)\u001b[49m\u001b[43m \u001b[49m\u001b[38;5;28;43;01mif\u001b[39;49;00m\u001b[43m \u001b[49m\u001b[38;5;124;43m\"\u001b[39;49m\u001b[38;5;124;43m!series_matrix_table_begin\u001b[39;49m\u001b[38;5;124;43m\"\u001b[39;49m\u001b[43m \u001b[49m\u001b[38;5;129;43;01min\u001b[39;49;00m\u001b[43m \u001b[49m\u001b[43mline\u001b[49m\u001b[43m]\u001b[49m\u001b[43m[\u001b[49m\u001b[38;5;241;43m0\u001b[39;49m\u001b[43m]\u001b[49m \u001b[38;5;241m+\u001b[39m \u001b[38;5;241m1\u001b[39m\n\u001b[0;32m     12\u001b[0m end_index \u001b[38;5;241m=\u001b[39m [i \u001b[38;5;28;01mfor\u001b[39;00m i, line \u001b[38;5;129;01min\u001b[39;00m \u001b[38;5;28menumerate\u001b[39m(lines) \u001b[38;5;28;01mif\u001b[39;00m \u001b[38;5;124m\"\u001b[39m\u001b[38;5;124m!series_matrix_table_end\u001b[39m\u001b[38;5;124m\"\u001b[39m \u001b[38;5;129;01min\u001b[39;00m line][\u001b[38;5;241m0\u001b[39m]\n\u001b[0;32m     14\u001b[0m \u001b[38;5;66;03m#Extract only the table lines\u001b[39;00m\n",
      "\u001b[1;31mIndexError\u001b[0m: list index out of range"
     ]
    }
   ],
   "source": [
    "import pandas as pd\n",
    "import gzip\n",
    "\n",
    "#Find the start of the data section\n",
    "soft_file = \"./GSE344_family.soft.gz\"\n",
    "\n",
    "with gzip.open(soft_file, \"rt\") as f:\n",
    "    lines = f.readlines()\n",
    "\n",
    "#Find where the table starts\n",
    "start_index = [i for i, line in enumerate(lines) if \"!series_matrix_table_begin\" in line][0] + 1\n",
    "end_index = [i for i, line in enumerate(lines) if \"!series_matrix_table_end\" in line][0]\n",
    "\n",
    "#Extract only the table lines\n",
    "table_lines = lines[start_index:end_index]\n"
   ]
  },
  {
   "cell_type": "code",
   "execution_count": 7,
   "id": "8213aab7-0f0a-4dea-ad5d-92e86507ac49",
   "metadata": {},
   "outputs": [
    {
     "name": "stdout",
     "output_type": "stream",
     "text": [
      "^DATABASE = GeoMiame\n",
      "!Database_name = Gene Expression Omnibus (GEO)\n",
      "!Database_institute = NCBI NLM NIH\n",
      "!Database_web_link = http://www.ncbi.nlm.nih.gov/geo\n",
      "!Database_email = geo@ncbi.nlm.nih.gov\n",
      "^SERIES = GSE344\n",
      "!Series_title = Spotted long oligonucleotide arrays\n",
      "!Series_geo_accession = GSE344\n",
      "!Series_status = Public on Mar 18 2003\n",
      "!Series_submission_date = Mar 17 2003\n",
      "!Series_last_update_date = Dec 13 2018\n",
      "!Series_pubmed_id = 12805270\n",
      "!Series_summary = Both spotted long oligonucleotide arrays and Affymetrix GeneChips were used to measure differential gene expression in two RNA samples (K562 erythroleukemia RNA and the Stratagene Universal Human Reference RNA).\n",
      "!Series_summary =\n",
      "!Series_summary = For Affymetrix technology, the two RNAs were analyzed separately. There are two replicates for K562 RNA (GSM4843 and GSM4844) and three for the Stratagene Universal reference (GSM4845-GSM4847).\n",
      "!Series_summary =\n",
      "!Series_summary = Two types of spotted long oligonucleotide arrays were used. These arrays were used to do two-color hybridizations to directly compare K562 and Universal reference RNAs.\n",
      "!Series_summary =\n",
      "!Series_summary = One array (GPL273) was made with probes from the Operon Human Genome Oligo Set Version 1. These arrays were used with unamplified cDNA probes (6 replicates, GSM4848-GSM4853), with aRNA probes produced by one round of T7 RNA polymerase-based amplification (6 replicates, GSM4854-GSM4859), and with aRNA probes produced by two rounds of amplification (2 replicates, GSM4860-GSM4861).\n",
      "!Series_summary = Keywords: parallel sample\n",
      "!Series_type = Expression profiling by array\n",
      "!Series_contributor = A,,Barczak\n",
      "!Series_contributor = M,W,Rodriguez\n",
      "!Series_contributor = K,,Hanspers\n",
      "!Series_contributor = L,L,Koth\n",
      "!Series_contributor = Y,C,Tai\n",
      "!Series_contributor = B,M,Bolstad\n",
      "!Series_contributor = T,P,Speed\n",
      "!Series_contributor = D,J,Erle\n",
      "!Series_sample_id = GSM4843\n",
      "!Series_sample_id = GSM4844\n",
      "!Series_sample_id = GSM4845\n",
      "!Series_sample_id = GSM4846\n",
      "!Series_sample_id = GSM4847\n",
      "!Series_sample_id = GSM4848\n",
      "!Series_sample_id = GSM4849\n",
      "!Series_sample_id = GSM4850\n",
      "!Series_sample_id = GSM4851\n",
      "!Series_sample_id = GSM4852\n",
      "!Series_sample_id = GSM4853\n",
      "!Series_sample_id = GSM4854\n",
      "!Series_sample_id = GSM4855\n",
      "!Series_sample_id = GSM4856\n",
      "!Series_sample_id = GSM4857\n",
      "!Series_sample_id = GSM4858\n",
      "!Series_sample_id = GSM4859\n",
      "!Series_sample_id = GSM4860\n",
      "!Series_sample_id = GSM4861\n",
      "!Series_sample_id = GSM4862\n",
      "!Series_sample_id = GSM4863\n"
     ]
    }
   ],
   "source": [
    "import gzip\n",
    "\n",
    "# Open the file and print the first 50 lines to find the correct header\n",
    "soft_file = \"./GSE344_family.soft.gz\"\n",
    "\n",
    "with gzip.open(soft_file, \"rt\") as f:\n",
    "    for i in range(50):  # Print first 50 lines\n",
    "        print(f.readline().strip())\n"
   ]
  },
  {
   "cell_type": "code",
   "execution_count": 8,
   "id": "2df52609-b775-425b-9b41-495fc9487379",
   "metadata": {},
   "outputs": [
    {
     "ename": "ParserError",
     "evalue": "Error tokenizing data. C error: Expected 1 fields in line 4, saw 2\n",
     "output_type": "error",
     "traceback": [
      "\u001b[1;31m---------------------------------------------------------------------------\u001b[0m",
      "\u001b[1;31mParserError\u001b[0m                               Traceback (most recent call last)",
      "Cell \u001b[1;32mIn[8], line 12\u001b[0m\n\u001b[0;32m      9\u001b[0m \u001b[38;5;28;01mfrom\u001b[39;00m\u001b[38;5;250m \u001b[39m\u001b[38;5;21;01mio\u001b[39;00m\u001b[38;5;250m \u001b[39m\u001b[38;5;28;01mimport\u001b[39;00m StringIO\n\u001b[0;32m     10\u001b[0m \u001b[38;5;28;01mimport\u001b[39;00m\u001b[38;5;250m \u001b[39m\u001b[38;5;21;01mpandas\u001b[39;00m\u001b[38;5;250m \u001b[39m\u001b[38;5;28;01mas\u001b[39;00m\u001b[38;5;250m \u001b[39m\u001b[38;5;21;01mpd\u001b[39;00m\n\u001b[1;32m---> 12\u001b[0m df \u001b[38;5;241m=\u001b[39m \u001b[43mpd\u001b[49m\u001b[38;5;241;43m.\u001b[39;49m\u001b[43mread_csv\u001b[49m\u001b[43m(\u001b[49m\u001b[43mStringIO\u001b[49m\u001b[43m(\u001b[49m\u001b[38;5;124;43m\"\u001b[39;49m\u001b[38;5;124;43m\"\u001b[39;49m\u001b[38;5;241;43m.\u001b[39;49m\u001b[43mjoin\u001b[49m\u001b[43m(\u001b[49m\u001b[43mtable_lines\u001b[49m\u001b[43m)\u001b[49m\u001b[43m)\u001b[49m\u001b[43m,\u001b[49m\u001b[43m \u001b[49m\u001b[43msep\u001b[49m\u001b[38;5;241;43m=\u001b[39;49m\u001b[38;5;124;43m\"\u001b[39;49m\u001b[38;5;130;43;01m\\t\u001b[39;49;00m\u001b[38;5;124;43m\"\u001b[39;49m\u001b[43m,\u001b[49m\u001b[43m \u001b[49m\u001b[43mindex_col\u001b[49m\u001b[38;5;241;43m=\u001b[39;49m\u001b[38;5;241;43m0\u001b[39;49m\u001b[43m)\u001b[49m\n\u001b[0;32m     14\u001b[0m \u001b[38;5;66;03m# Display first 5 rows\u001b[39;00m\n\u001b[0;32m     15\u001b[0m df\u001b[38;5;241m.\u001b[39mhead()\n",
      "File \u001b[1;32m~\\OneDrive\\Desktop\\bio_data_governance\\datagove_env\\lib\\site-packages\\pandas\\io\\parsers\\readers.py:1026\u001b[0m, in \u001b[0;36mread_csv\u001b[1;34m(filepath_or_buffer, sep, delimiter, header, names, index_col, usecols, dtype, engine, converters, true_values, false_values, skipinitialspace, skiprows, skipfooter, nrows, na_values, keep_default_na, na_filter, verbose, skip_blank_lines, parse_dates, infer_datetime_format, keep_date_col, date_parser, date_format, dayfirst, cache_dates, iterator, chunksize, compression, thousands, decimal, lineterminator, quotechar, quoting, doublequote, escapechar, comment, encoding, encoding_errors, dialect, on_bad_lines, delim_whitespace, low_memory, memory_map, float_precision, storage_options, dtype_backend)\u001b[0m\n\u001b[0;32m   1013\u001b[0m kwds_defaults \u001b[38;5;241m=\u001b[39m _refine_defaults_read(\n\u001b[0;32m   1014\u001b[0m     dialect,\n\u001b[0;32m   1015\u001b[0m     delimiter,\n\u001b[1;32m   (...)\u001b[0m\n\u001b[0;32m   1022\u001b[0m     dtype_backend\u001b[38;5;241m=\u001b[39mdtype_backend,\n\u001b[0;32m   1023\u001b[0m )\n\u001b[0;32m   1024\u001b[0m kwds\u001b[38;5;241m.\u001b[39mupdate(kwds_defaults)\n\u001b[1;32m-> 1026\u001b[0m \u001b[38;5;28;01mreturn\u001b[39;00m \u001b[43m_read\u001b[49m\u001b[43m(\u001b[49m\u001b[43mfilepath_or_buffer\u001b[49m\u001b[43m,\u001b[49m\u001b[43m \u001b[49m\u001b[43mkwds\u001b[49m\u001b[43m)\u001b[49m\n",
      "File \u001b[1;32m~\\OneDrive\\Desktop\\bio_data_governance\\datagove_env\\lib\\site-packages\\pandas\\io\\parsers\\readers.py:626\u001b[0m, in \u001b[0;36m_read\u001b[1;34m(filepath_or_buffer, kwds)\u001b[0m\n\u001b[0;32m    623\u001b[0m     \u001b[38;5;28;01mreturn\u001b[39;00m parser\n\u001b[0;32m    625\u001b[0m \u001b[38;5;28;01mwith\u001b[39;00m parser:\n\u001b[1;32m--> 626\u001b[0m     \u001b[38;5;28;01mreturn\u001b[39;00m \u001b[43mparser\u001b[49m\u001b[38;5;241;43m.\u001b[39;49m\u001b[43mread\u001b[49m\u001b[43m(\u001b[49m\u001b[43mnrows\u001b[49m\u001b[43m)\u001b[49m\n",
      "File \u001b[1;32m~\\OneDrive\\Desktop\\bio_data_governance\\datagove_env\\lib\\site-packages\\pandas\\io\\parsers\\readers.py:1923\u001b[0m, in \u001b[0;36mTextFileReader.read\u001b[1;34m(self, nrows)\u001b[0m\n\u001b[0;32m   1916\u001b[0m nrows \u001b[38;5;241m=\u001b[39m validate_integer(\u001b[38;5;124m\"\u001b[39m\u001b[38;5;124mnrows\u001b[39m\u001b[38;5;124m\"\u001b[39m, nrows)\n\u001b[0;32m   1917\u001b[0m \u001b[38;5;28;01mtry\u001b[39;00m:\n\u001b[0;32m   1918\u001b[0m     \u001b[38;5;66;03m# error: \"ParserBase\" has no attribute \"read\"\u001b[39;00m\n\u001b[0;32m   1919\u001b[0m     (\n\u001b[0;32m   1920\u001b[0m         index,\n\u001b[0;32m   1921\u001b[0m         columns,\n\u001b[0;32m   1922\u001b[0m         col_dict,\n\u001b[1;32m-> 1923\u001b[0m     ) \u001b[38;5;241m=\u001b[39m \u001b[38;5;28;43mself\u001b[39;49m\u001b[38;5;241;43m.\u001b[39;49m\u001b[43m_engine\u001b[49m\u001b[38;5;241;43m.\u001b[39;49m\u001b[43mread\u001b[49m\u001b[43m(\u001b[49m\u001b[43m  \u001b[49m\u001b[38;5;66;43;03m# type: ignore[attr-defined]\u001b[39;49;00m\n\u001b[0;32m   1924\u001b[0m \u001b[43m        \u001b[49m\u001b[43mnrows\u001b[49m\n\u001b[0;32m   1925\u001b[0m \u001b[43m    \u001b[49m\u001b[43m)\u001b[49m\n\u001b[0;32m   1926\u001b[0m \u001b[38;5;28;01mexcept\u001b[39;00m \u001b[38;5;167;01mException\u001b[39;00m:\n\u001b[0;32m   1927\u001b[0m     \u001b[38;5;28mself\u001b[39m\u001b[38;5;241m.\u001b[39mclose()\n",
      "File \u001b[1;32m~\\OneDrive\\Desktop\\bio_data_governance\\datagove_env\\lib\\site-packages\\pandas\\io\\parsers\\c_parser_wrapper.py:234\u001b[0m, in \u001b[0;36mCParserWrapper.read\u001b[1;34m(self, nrows)\u001b[0m\n\u001b[0;32m    232\u001b[0m \u001b[38;5;28;01mtry\u001b[39;00m:\n\u001b[0;32m    233\u001b[0m     \u001b[38;5;28;01mif\u001b[39;00m \u001b[38;5;28mself\u001b[39m\u001b[38;5;241m.\u001b[39mlow_memory:\n\u001b[1;32m--> 234\u001b[0m         chunks \u001b[38;5;241m=\u001b[39m \u001b[38;5;28;43mself\u001b[39;49m\u001b[38;5;241;43m.\u001b[39;49m\u001b[43m_reader\u001b[49m\u001b[38;5;241;43m.\u001b[39;49m\u001b[43mread_low_memory\u001b[49m\u001b[43m(\u001b[49m\u001b[43mnrows\u001b[49m\u001b[43m)\u001b[49m\n\u001b[0;32m    235\u001b[0m         \u001b[38;5;66;03m# destructive to chunks\u001b[39;00m\n\u001b[0;32m    236\u001b[0m         data \u001b[38;5;241m=\u001b[39m _concatenate_chunks(chunks)\n",
      "File \u001b[1;32mparsers.pyx:838\u001b[0m, in \u001b[0;36mpandas._libs.parsers.TextReader.read_low_memory\u001b[1;34m()\u001b[0m\n",
      "File \u001b[1;32mparsers.pyx:905\u001b[0m, in \u001b[0;36mpandas._libs.parsers.TextReader._read_rows\u001b[1;34m()\u001b[0m\n",
      "File \u001b[1;32mparsers.pyx:874\u001b[0m, in \u001b[0;36mpandas._libs.parsers.TextReader._tokenize_rows\u001b[1;34m()\u001b[0m\n",
      "File \u001b[1;32mparsers.pyx:891\u001b[0m, in \u001b[0;36mpandas._libs.parsers.TextReader._check_tokenize_status\u001b[1;34m()\u001b[0m\n",
      "File \u001b[1;32mparsers.pyx:2061\u001b[0m, in \u001b[0;36mpandas._libs.parsers.raise_parser_error\u001b[1;34m()\u001b[0m\n",
      "\u001b[1;31mParserError\u001b[0m: Error tokenizing data. C error: Expected 1 fields in line 4, saw 2\n"
     ]
    }
   ],
   "source": [
    "# Searching for a different keyword\n",
    "start_index = [i for i, line in enumerate(lines) if \"ID_REF\" in line]  # Adjust keyword\n",
    "end_index = len(lines)  # Keep all remaining lines\n",
    "\n",
    "# Extract only the table lines\n",
    "table_lines = lines[start_index[0]:end_index]\n",
    "\n",
    "# Convert to Pandas DataFrame\n",
    "from io import StringIO\n",
    "import pandas as pd\n",
    "\n",
    "df = pd.read_csv(StringIO(\"\".join(table_lines)), sep=\"\\t\", index_col=0)\n",
    "\n",
    "# Display first 5 rows\n",
    "df.head()\n"
   ]
  },
  {
   "cell_type": "code",
   "execution_count": 9,
   "id": "39a6ecd5-bc4d-4983-bbaa-50f176a3bd8f",
   "metadata": {},
   "outputs": [
    {
     "name": "stdout",
     "output_type": "stream",
     "text": [
      "^DATABASE = GeoMiame\n",
      "!Database_name = Gene Expression Omnibus (GEO)\n",
      "!Database_institute = NCBI NLM NIH\n",
      "!Database_web_link = http://www.ncbi.nlm.nih.gov/geo\n",
      "!Database_email = geo@ncbi.nlm.nih.gov\n",
      "^SERIES = GSE344\n",
      "!Series_title = Spotted long oligonucleotide arrays\n",
      "!Series_geo_accession = GSE344\n",
      "!Series_status = Public on Mar 18 2003\n",
      "!Series_submission_date = Mar 17 2003\n",
      "!Series_last_update_date = Dec 13 2018\n",
      "!Series_pubmed_id = 12805270\n",
      "!Series_summary = Both spotted long oligonucleotide arrays and Affymetrix GeneChips were used to measure differential gene expression in two RNA samples (K562 erythroleukemia RNA and the Stratagene Universal Human Reference RNA).\n",
      "!Series_summary =\n",
      "!Series_summary = For Affymetrix technology, the two RNAs were analyzed separately. There are two replicates for K562 RNA (GSM4843 and GSM4844) and three for the Stratagene Universal reference (GSM4845-GSM4847).\n",
      "!Series_summary =\n",
      "!Series_summary = Two types of spotted long oligonucleotide arrays were used. These arrays were used to do two-color hybridizations to directly compare K562 and Universal reference RNAs.\n",
      "!Series_summary =\n",
      "!Series_summary = One array (GPL273) was made with probes from the Operon Human Genome Oligo Set Version 1. These arrays were used with unamplified cDNA probes (6 replicates, GSM4848-GSM4853), with aRNA probes produced by one round of T7 RNA polymerase-based amplification (6 replicates, GSM4854-GSM4859), and with aRNA probes produced by two rounds of amplification (2 replicates, GSM4860-GSM4861).\n",
      "!Series_summary = Keywords: parallel sample\n",
      "!Series_type = Expression profiling by array\n",
      "!Series_contributor = A,,Barczak\n",
      "!Series_contributor = M,W,Rodriguez\n",
      "!Series_contributor = K,,Hanspers\n",
      "!Series_contributor = L,L,Koth\n",
      "!Series_contributor = Y,C,Tai\n",
      "!Series_contributor = B,M,Bolstad\n",
      "!Series_contributor = T,P,Speed\n",
      "!Series_contributor = D,J,Erle\n",
      "!Series_sample_id = GSM4843\n",
      "!Series_sample_id = GSM4844\n",
      "!Series_sample_id = GSM4845\n",
      "!Series_sample_id = GSM4846\n",
      "!Series_sample_id = GSM4847\n",
      "!Series_sample_id = GSM4848\n",
      "!Series_sample_id = GSM4849\n",
      "!Series_sample_id = GSM4850\n",
      "!Series_sample_id = GSM4851\n",
      "!Series_sample_id = GSM4852\n",
      "!Series_sample_id = GSM4853\n",
      "!Series_sample_id = GSM4854\n",
      "!Series_sample_id = GSM4855\n",
      "!Series_sample_id = GSM4856\n",
      "!Series_sample_id = GSM4857\n",
      "!Series_sample_id = GSM4858\n",
      "!Series_sample_id = GSM4859\n",
      "!Series_sample_id = GSM4860\n",
      "!Series_sample_id = GSM4861\n",
      "!Series_sample_id = GSM4862\n",
      "!Series_sample_id = GSM4863\n",
      "!Series_sample_id = GSM4864\n",
      "!Series_sample_id = GSM4865\n",
      "!Series_contact_name = David,J,Erle\n",
      "!Series_contact_email = erle@itsa.ucsf.edu\n",
      "!Series_contact_phone = 415-206-5905\n",
      "!Series_contact_laboratory = Shared Microarray Facility\n",
      "!Series_contact_department = Medicine\n",
      "!Series_contact_institute = University of California San Francisco\n",
      "!Series_contact_address = Box 0854\n",
      "!Series_contact_city = San Francisco\n",
      "!Series_contact_state = CA\n",
      "!Series_contact_zip/postal_code = 94143-0854\n",
      "!Series_contact_country = USA\n",
      "!Series_contact_web_link = http://arrays.ucsf.edu\n",
      "!Series_supplementary_file = ftp://ftp.ncbi.nlm.nih.gov/geo/series/GSEnnn/GSE344/suppl/GSE344_RAW.tar\n",
      "!Series_platform_id = GPL273\n",
      "!Series_platform_id = GPL274\n",
      "!Series_platform_id = GPL8300\n",
      "!Series_platform_taxid = 9606\n",
      "!Series_sample_taxid = 9606\n",
      "!Series_relation = BioProject: https://www.ncbi.nlm.nih.gov/bioproject/PRJNA84827\n",
      "^PLATFORM = GPL273\n",
      "!Platform_title = UCSF 3OPHs version 1 human long oligo array\n",
      "!Platform_geo_accession = GPL273\n",
      "!Platform_status = Public on Mar 18 2003\n",
      "!Platform_submission_date = Mar 16 2003\n",
      "!Platform_last_update_date = Jan 18 2013\n",
      "!Platform_technology = spotted oligonucleotide\n",
      "!Platform_distribution = non-commercial\n",
      "!Platform_organism = Homo sapiens\n",
      "!Platform_taxid = 9606\n",
      "!Platform_description = Spotted long oligonucleotide array produced using Operon Human Genome Oligo Set Version 1 probes. This set includes 13971 oligonucleotides (mostly 70-mers) designed based upon representative sequences in build 119 of the human UniGene database. 29 negative control oligos are also included on these arrays.\n",
      "!Platform_description = Keywords = spotted, long oligonucleotide\n",
      "!Platform_web_link = http://arrays.ucsf.edu\n",
      "!Platform_contributor = Andrea,,Barczak\n",
      "!Platform_contributor = David,J,Erle\n",
      "!Platform_contact_name = David,J,Erle\n",
      "!Platform_contact_email = erle@itsa.ucsf.edu\n",
      "!Platform_contact_phone = 415-206-5905\n",
      "!Platform_contact_laboratory = Shared Microarray Facility\n",
      "!Platform_contact_department = Medicine\n",
      "!Platform_contact_institute = University of California San Francisco\n",
      "!Platform_contact_address = Box 0854\n",
      "!Platform_contact_city = San Francisco\n",
      "!Platform_contact_state = CA\n",
      "!Platform_contact_zip/postal_code = 94143-0854\n",
      "!Platform_contact_country = USA\n",
      "!Platform_contact_web_link = http://arrays.ucsf.edu\n",
      "!Platform_data_row_count = 14001\n",
      "#ID =\n",
      "#GENE_NAME = Descriptive gene name, from UniGene\n",
      "#UNIGENE = UniGene cluster ID, Build 155\n",
      "#GENE = Entrez GENE ID LINK_PRE:\"http://www.ncbi.nlm.nih.gov/gene/\"\n",
      "#GB_ACC = GenBank accession number of sequence used to design oligonucleotide probe LINK_PRE:\"http://www.ncbi.nlm.nih.gov/nuccore/?term=\"\n",
      "#GENE_SYMBOL = Gene symbol, from UniGene\n",
      "#SEQUENCE = Sequence of oligonucleotide probe, provided by Operon LINK_PRE:\"http://www.ncbi.nlm.nih.gov/blast/Blast.cgi?ALIGNMENTS=50&ALIGNMENT_VIEW=Pairwise&AUTO_FORMAT=Semiauto&CLIENT=web&DATABASE=nr&DESCRIPTIONS=100&ENTREZ_QUERY=(none)&EXPECT=10&FILTER=L&FORMAT_BLOCK_ON_RESPAGE=None&FORMAT_ENTREZ_QUERY=(none)&FORMAT_OBJECT=Alignment&FORMAT_TYPE=HTML&LAYOUT=TwoWindows&NCBI_GI=on&PAGE=Nucleotides&PROGRAM=blastn&QUERY=\"\n",
      "#SPOT_ID =\n",
      "!platform_table_begin\n",
      "ID\tGENE_NAME\tUNIGENE\tGENE\tGB_ACC\tGENE_SYMBOL\tSEQUENCE\tSPOT_ID\n",
      "H000001_01\tCASP8 associated protein 2\t122843\t9994\tNM_012115\tCASP8AP2\tGAGGGCCATCATTTAAAACATTTGCATATTTAGCCGCCAAGTTGGATAAAAATCCAAATCAGGTCTCAGA\n",
      "H000002_01\ttumor suppressing subtransferable candidate 3\t154036\t7262\tAF035444\tTSSC3\tCTCATCCAGTCATGCGGGGCTGGTGTGAAAGGCGCTGGGAACCGGCTTTGAATGAATAAATGAATCGTGT\n",
      "H000003_01\tPEF protein with a long N-terminal hydrophobic domain (peflin)\t241531\t23578\tAK001420\tPEF\tAATCTGACCAAGCATGAGAGAGATCTGTCTATGGGACCAGTGGCTTGGATTCTGCCACACCCATAAATCC\n",
      "H000004_01\tfumarylacetoacetate hydrolase (fumarylacetoacetase)\t73875\t2184\tM55150\tFAH\tTCCTGCCATCATGAGATTTTCTCTGCTCTTCTGGAAACAAAGGGCTCAAGCACCCCTTTCAACCCTGTGA\n",
      "H000005_01\t\t\t\tAL121964\t\tTCCCTGTGAAACTTTGGTTTCTTTCTATAAATGTGTGTGGTTTTCAGCGCTCAACTCCTGTCTTCAAATG\n",
      "H000006_01\tperoxiredoxin 5\t31731\t25824\tNM_012094\tPRDX5\tAATATCATCTCACAGCTCTGAGGCCCTGGGCCAGATTACTTCCTCCACCCCTCCCTATCTCACCTGCCCA\n",
      "H000007_01\tprogrammed cell death 6\t80019\t10016\tAK001917\tPDCD6\tTGTCACGTGGGGACCCAGCTGTACATATGTGGATAAGCTGATTAATGGTTTTGCAACTGTAATAGTAGCT\n",
      "H000008_01\tv-akt murine thymoma viral oncogene homolog 3 (protein kinase B, gamma)\t278582\t10000\tAF135794\tAKT3\tCTTTGGGAGAAGAGATGCTGCCATTTAACCCCTTGGTACTGAAAATGAGAAAATCCCCAACTATGCATGC\n",
      "H000009_01\tnuclear factor of activated T-cells, cytoplasmic, calcineurin-dependent 2\t248037\t4773\tU43342\tNFATC2\tCTACTTGGATGATGTTAATGAAATTATCAGGAAGGAGTTTTCAGGACCTCCTGCCAGAAATCAGACGTAA\n",
      "H000010_01\tnon-metastatic cells 5, protein expressed in (nucleoside-diphosphate kinase)\t72050\t8382\tAF067724\tNME5\tTTTCATGCTCATGTGTCAGATATGCTTCCCTCAAACCTTGTTACAGCATCATCACATTACCTGTTTGATG\n",
      "H000011_01\tlamin A/C\t77886\t4000\tM13452\tLMNA\tGAGCCCTTGCCTCCCCATTTCCCATCTGCACCCCTTCTCTCCTCCCCAAATCAATACACTAGTTGTTTCT\n",
      "H000012_01\tcalpain 11\t225953\t11131\tAJ242832\tCAPN11\tTGAACAACAAGGTAATGCAGGTCCTGGTGGCCAGGTATGCAGATGATGACCTGATCATAGACTTTGACAG\n",
      "H000013_01\tcell death-inducing DFFA-like effector a\t249129\t1149\tAF041378\tCIDEA\tAGGACTTCATCGGCTGCCTTAACGTGAAGGCCACCATGTATGAGATGTACTCCGTGTCCTACGACATCCG\n",
      "H000014_01\tprogrammed cell death 5\t166468\t9141\tAF014955\tPDCD5\tGAAAAGTAATGGACTCTGATGAAGATGACGATTATTGAACTACAAGTGCTCACAGACTAGAACTTAACGG\n",
      "H000015_01\tdedicator of cyto-kinesis 1\t82295\t1793\tD50857\tDOCK1\tTGTTCCAGCCGGTGGTGTGACTTCGTTGGTTGAGGTGTGTCTCCAACCTACATCAGACCATGAAGTTCAA\n",
      "H000016_01\tKruppel-type zinc finger (C2H2)\t142150\t10224\tAB011414\tZK1\tTGATACCTGCTGGGTATTGGTTCCAGCACTCCGTGAGCCATGTCCAGTCCCTTTTATAAAATGACATGTT\n",
      "H000017_01\tDNA fragmentation factor, 40kDa, beta polypeptide (caspase-activated DNase)\t133089\t1677\tAF064019\tDFFB\tCGGTCTGGAAGGAAACACGCGGATCTGAACAGCAGTAATCCTGGGGGATACGGGGGTTGGGCTAGATTAC\n",
      "H000018_01\tapoptosis inhibitor 5\t227913\t8539\tU83857\tAPI5\tTCACCGTTCCCCTTCCCTTTCGTAAGGCAATAGTGCACAACTTAGGTTATTTTTGCTTCCGAATTTGAAT\n",
      "H000019_01\tspectrin, alpha, non-erythrocytic 1 (alpha-fodrin)\t77196\t6709\tJ05243\tSPTAN1\tTAGGAGAAAATGGTGCTTCACTAACCCGCTTCCGGTCCAGTCACAATCATCATGTCACTGTGGGACCCAG\n",
      "H000020_01\tapoptosis-associated tyrosine kinase\t128316\t9625\tAB014541\tAATK\tATGTAAAGTTTATTGTTGCTTCGCAGGGGGATTTGTTTTGTGTTTTGTTTGAGGCTTAGAACGCTGGTGC\n",
      "H000021_01\tE1B-55kDa-associated protein 5\t155218\t11100\tAJ007509\tE1B-AP5\tTTCATCAAGATAAGGCATTTCTTTCCCGGAGTTCAGGTGACTGAGGGAAGGGCCCCCAAAACAAAACACA\n",
      "H000022_01\tnucleoside diphosphate kinase type 6 (inhibitor of p53-induced apoptosis-alpha)\t343824\t10201\tAF051941\tNM23-H6\tAGCCAGGCATGGTGGTGCATGCCTGTAATCCCAGCTACTCAGAGGCTGAGGCAGGAGAATTGCTTGAACC\n",
      "H000023_01\tBCL2/adenovirus E1B 19kDa interacting protein 1\t77572\t662\tNM_013979\tBNIP1\tTGGAACACAGTGCCCCACTTTTCTGCAAGTAGCTGGCTTGTAAAGGGTGAACAGAGCCATGGGAGGAAGG\n",
      "H000024_01\tglutamate receptor, ionotropic, delta 2\t248130\t2895\tAF009014\tGRID2\tTCCTTATCAACCAACTCCTACCCTGGGGCTCAATCTGGGTAATGATCCAGACCGAGGCACCTCCATATGA\n",
      "H000025_01\tneutral sphingomyelinase (N-SMase) activation associated factor\t78687\t8439\tX96586\tNSMAF\tAGCGTGGTTACTTTCTATAATGCTGTACCCAGATTCTAAGAACCTGGAGAAGGATTAGCAGTTCTTAGTA\n",
      "H000026_01\ttumor necrosis factor (ligand) superfamily, member 13b\t270737\t10673\tAF134715\tTNFSF13B\tCATTGAAACTGCTGTGACCTACTTACACCATGTCTGTAGCTATTTTCCTCCCTTTCTCTGTACCTCTAAG\n",
      "H000027_01\tsyntaxin 11\t118958\t8676\tAF044309\tSTX11\tCTTGGAAAGATGGTTAGTTGATACCGTCCGATGATTCTTCAGTAAAGATAGATTCCCACCTCGTGCCGAA\n",
      "H000028_01\tprogrammed cell death 8 (apoptosis-inducing factor)\t18720\t9131\tAL049703\tPDCD8\tCACTGCAGCCCCTGAGAGGAGGTCGAATGGGTAAAGGAGCATTTTTTTATTCAGCAGACTTTCTCTGTGT\n",
      "H000029_01\tmitogen-activated protein kinase kinase kinase 3\t29282\t4215\tU78876\tMAP3K3\tCTGCTCACACACCACTTTGCACAGCTCATGTACTGAGCTCTCACGGCCACACAGCTGCCGGTCGCCCTTT\n",
      "H000030_01\tAPG5 autophagy 5-like (S. cerevisiae)\t11171\t9474\tY11588\tAPG5L\tAGCCAGAGTAGTTTTATACAGACAAAACCAGTGTCAGGCCTTTGCAGTAGGCTTGAGTGAACTTCTGATC\n",
      "H000031_01\tgelsolin (amyloidosis, Finnish type)\t290070\t2934\tX04412\tGSN\tGCAAGGCTTTGAGCCTCCCTCCTTTGTGGGCTGGTTCCTTGGCTGGGATGATGATTACTGGTCTGTGGAC\n",
      "H000032_01\t\t\t\tAF117829\t\tATACCGGCTTCCTGTCCCCATTTTTAACCTCAGCCTTCCCTACTGTCACCAACAACCAAGCTAAATAAAG\n",
      "H000033_01\tRAB6 interacting, kinesin-like (rabkinesin6)\t73625\t10112\tNM_005733\tRAB6KIFL\tGAGAAGAGCAGTCATGGCCCTGAGGTGGGTCAGCTACTCTCCTGAAGAAATAGGTCTCTTTTATGCTTTA\n",
      "H000034_01\tribosomal protein L7\t153\t6129\tX57958\tRPL7\tGGAGATGCTGGCAACAGGGAGGACCAGATCAACAGGCTTATTAGAAGAATGAACTAAGGTGTCTACCATG\n",
      "H000035_01\tapoptosis-associated speck-like protein containing a CARD\t71869\t29108\tNM_013258\tASC\tGCCCCTGGCAATCCCACCAAATCATCCTGAATCTGATCTTTTTATACACAATATACGAAAAGCCAGCTTG\n",
      "H000036_01\t\t\t\tU80017\t\tGAGGCGTATGTGGCAAAATGTTACAGAATCTAACTGGTGGACATGGCTGTTCATTGTACTGTTTTTTTCT\n",
      "H000037_01\tsecreted frizzled-related protein 1\t7306\t6422\tAF056087\tSFRP1\tTACACAGGACATGGATGAAATTCCCGTTTCCTCTAGTTTCTTCCTGTAGTACTCCTCTTTTAGATCCTAA\n",
      "H000038_01\treceptor-interacting serine-threonine kinase 3\t268551\t11035\tNM_006871\tRIPK3\tGCGACCGCTCGTTAACATATACAACTGCTCTGGGGTGCAAGTTGGAGACAACAACTACTTGACTATGCAA\n",
      "H000039_01\t\t\t\tY15724\t\tTGCAGACTGATGATTTTATATGTAAATCAAGACTCACATCCCTTTCCTAGTCCCCCACATCCAAAGCCCC\n",
      "H000040_01\tprotein phosphatase 1, regulatory (inhibitor) subunit 15A\t76556\t23645\tAK001361\tPPP1R15A\tGAAACCCCTACTCATGATCCGGACCCTGAGACTCCCCTAAAGGCCAGAAAGGTGCGCTTCTCCGAGAAGG\n",
      "H000041_01\ttumor necrosis factor (ligand) superfamily, member 12\t26401\t8742\tAF055872\tTNFSF12\tTAGGCCAGGAGTTCCCAAATGTGAGGGGCGAGAAACAAGACAAGCTCCTCCCTTGAGAATTCCCTGTGGA\n",
      "H000042_01\tinhibitor of kappa light polypeptide gene enhancer in B-cells, kinase gamma\t43505\t8517\tAF074382\tIKBKG\tCCCTCTTACCATGCACACGGGTGCTCTCCTTTTGGGCTGCATGCTATTCCATTTTGCAGCCAGACCGATG\n",
      "H000043_01\tpresenilin 2 (Alzheimer disease 4)\t25363\t5664\tL43964\tPSEN2\tATGATGTCCTTGTTATTTTATTGCCTTTAGAAACTGAGTCCTGTTCTTGTTACGGCAGTCACACTGCTGG\n",
      "H000044_01\tribosomal protein L31\t184014\t6160\tX15940\tRPL31\tGCATTGACACCAGGCTCAACAAAGCTGTCTGGGCCAAAGGAATAAGGAATGTGCCATACCGAATCCGTGT\n",
      "H000045_01\tnuclear mitotic apparatus protein 1\t301512\t4926\tZ11584\tNUMA1\tTGCACTGGGGTGGGATTTGGAGTGATGGGAAGGTTTTTAAGGGCCGGGGATGGATCTTTTCTAAATGTTA\n",
      "H000046_01\tcaspase 14, apoptosis-related cysteine protease\t248226\t23581\tAF097874\tCASP14\tAGAAGGAAAAGCAAGGAAAACGAACCCTGAAATCCAAAGCACCCTCCGGAAACGGCTGTATCTGCAGTAG\n",
      "H000047_01\tHomo sapiens evolutionarily related interleukin-1beta converting enzyme mRNA, complete cds\t137587\t\tAF078533\t\tTGGCCATCTGAGCCACTGACTAAGGAGATGTACCACTTCAATTACATACATGCAGAATGCTGAATAGATA\n",
      "H000048_01\tPRKC, apoptosis, WT1, regulator\t176090\t5074\tU63809\tPAWR\tCCCTCACATGTCCCTATACTGATGTGTGCCACCTTTTATGTGTTGATGACTCACTCATAAGGTTTTGGTC\n",
      "H000049_01\tB-cell CLL/lymphoma 10\t193516\t8915\tAJ006288\tBCL10\tTGTGCAAACTCTAGTGAGATGTTTCTTCCCTTAAGATCACGTACTGTTTCACGACAATGACACTTTATTG\n",
      "H000050_01\tCUG triplet repeat, RNA binding protein 2\t211610\t10659\tAF090693\tCUGBP2\tGAGATTAAAAAAAAAATGGAAATTTTTGTGGCTTGCTCTGGTGGGCCCCTGACAATGACTGATTTCAAGT\n",
      "H000051_01\tchromobox homolog 4 (Pc class homolog, Drosophila)\t5637\t8535\tAF013956\tCBX4\tCTGAGCGAGTTCAAGCCCTTCTTTGGGAATATAATTATCACCGACGTCACCGCGAACTGCCTCACCGTTA\n",
      "H000052_01\tcalpain 9 (nCL-4)\t113292\t10753\tAF022799\tCAPN9\tTGGTGTGGAACCATTACGCCCAGGGTTCACTCCCCTCTCATCGTCCGGCCTTCTCCCTTCATCTTGATCT\n",
      "H000053_01\tBH3 interacting domain death agonist\t172894\t637\tAF042083\tBID\tTGCTTCCAGTGTAGACGGAGCCCTGGCATGTCAACAGCGTTCCTAGAGAAGACAGGCTGGAAGATAGCTG\n",
      "H000054_01\tcalpain 6\t169172\t827\tAJ000388\tCAPN6\tCAATCATGACGAAATGTACGTCCCACCATCTTAACCTATCAACTTTCTGCCCCTCCTTCAAGGCCCAGTA\n",
      "H000055_01\t\t\t\tU80017\t\tGAGGCGTATGTGGCAAAATGTTACAGAATCTAACTGGTGGACATGGCTGTTCATTGTACTGTTTTTTTCT\n",
      "H000056_01\tribosomal protein S20\t8102\t6224\tL06498\tRPS20\tAAGACGTGGGATCGTTTCCAGATGAGAATTCACAAGCGACTCATTGACTTGCACAGTCCTTCTGAGATTG\n",
      "H000057_01\tserine/threonine kinase 17b (apoptosis-inducing)\t120996\t9262\tAB011421\tSTK17B\tGGTTTCCAAAAGATTTCGTTTCGATGACTCATTACCCAATCCCCATGAACTTGTTTCAGATTTGCTCTGT\n",
      "H000058_01\tnucleolar protein 3 (apoptosis repressor with CARD domain)\t278439\t8996\tAF043244\tNOL3\tTGGAGCTGAATCGGATGCCACCAAGGCTCGGTCCAGCCCAGTACCGCTGGAAGTGAATAAACTCCGGAGG\n",
      "H000059_01\tetoposide-induced mRNA\t343911\t9538\tAF010313\tPIG8\tGTTGGCCACTGCCAGGTCTATTTCCATATTTCAAAGGAATATTGGGTGCTGCATATAGGAACTGAAGGGG\n",
      "H000060_01\tpolyglutamine binding protein 1\t30570\t10084\tAJ005893\tPQBP1\tCAGCAGGATTGAAGCTTCGGCCTCCCTGGCCCTGGGTTAAAATAAAAGCTTTCTGGTGATCCTGCCCACC\n",
      "H000061_01\tdeath-associated protein kinase 2\t129208\t23604\tAF052941\tDAPK2\tTGATTGAGGAAAGTGAACCTTGGGTGTGAGGGACCAATCCTGTGACCTCCCAGAACCATGGAAGCCAGGA\n",
      "H000062_01\tcalcium channel, voltage-dependent, alpha 2/delta subunit 2\t127436\t9254\tAF040709\tCACNA2D2\tGGGGGACTGGGGGGCCATTTCCTTTTCTCTGCCCTTTTTTTGTTGTTCTATTTTGTACAGACAAGTTGGA\n",
      "H000063_01\tphospholipid scramblase 1\t198282\t5359\tAB006746\tPLSCR1\tGTAAAGAACAAAATGATTCTCTCCCAAAGAAAGACACATTTTAAATACTCCTTCACTCTAAAACTCTGGT\n",
      "H000064_01\tregulator of Fas-induced apoptosis\t58831\t9214\tAF057557\tTOSO\tCCTGCTTCATGTGTTCTCAGAGCCCTCATCATTCCCATGCCCCATCTCGATCCCATCCCCATCTATCTGT\n",
      "H000065_01\tBCL2/adenovirus E1B 19kDa interacting protein 3-like\t132955\t665\tAL132665\tBNIP3L\tGTAGCCCTAACACATGGGATGAACGTTTTACTGCTACACCCAGATTTGTGTTGAACGAAAACATTGTGGT\n",
      "H000066_01\tinterleukin enhancer binding factor 1\t296281\t3607\tU58197\tILF1\tAGCTGCCTGATGAATTTTATCCACCTCCATTTCAGCATGTGGCTCGCGTGGACAGGTGGACGGACGCTGT\n",
      "H000067_01\tdeoxyribonuclease I-like 3\t88646\t1776\tU75744\tDNASE1L3\tCCAAGAGGACACCACGGTGAAGAAGAGCACCAACTGTGCATATGACAGGATTGTGCTTAGAGGACAAGAA\n",
      "H000068_01\tsignal recognition particle 72kDa\t237825\t6731\tAF069765\tSRP72\tGGTGGAAAAGGTGGCTGGTGATGAGAATATTCTTGTTGCAGGCTGTTTTTAAACTAGTGTCAGTGACACT\n",
      "H000069_01\tBCL2-like 11 (apoptosis facilitator)\t202657\t10018\tAF032457\tBCL2L11\tAACGCTTACTATGCAAGGAGGGTATTTTTGAATAATTACCAAGCAGCCGAAGACCACCCACGAATGGTTA\n",
      "H000070_01\tspectrin, beta, non-erythrocytic 1\t107164\t6711\tM96803\tSPTBN1\tTTCAGTGAAATTCCAGCATGCAAGCTCAGAACCAACACATTACTCTCTGTGCCTAATGTTCCTCAATGTG\n",
      "H000071_01\tribosomal protein S3A\t77039\t6189\tM84711\tRPS3A\tTGAATTGGGAAAGCTCATGGAGCTTCATGGTGAAGGCAGTAGTTCTGGAAAAGCCACTGGGGACGAGACA\n",
      "H000072_01\tproteasome (prosome, macropain) subunit, beta type, 7\t118065\t5695\tD38048\tPSMB7\tGGCTTGGCCGGTACAGGTGTGAGAAAGGGACTACTGCAGTCCTCACTGAGAAAATCACTCCTCTGGAGAT\n",
      "H000073_01\t\t\t\tS76988\t\tTCAAAACAAAAGAGCCAACAGAACAGAAGAAAATGTTTCAGACGGTTCCCCAAATGCCGGTTCTGTGGAG\n",
      "H000074_01\tpolymerase (DNA directed), delta 2, regulatory subunit 50kDa\t74598\t5425\tU21090\tPOLD2\tGGCCCAGATGGAGGCTGTTCATTCCCTGCAGTGTCGGCATTGTAAATAAAGCCTGGCACTTGCTGATGCG\n",
      "H000075_01\tprotein disulfide isomerase, pancreatic\t66581\t64714\tU19948\tPDIP\tCTGCTGGACAGGAGCCACCCCCTTGGGTACCAGAGGGAGCTGTGCATTGTGAATAAAGAGTGAGCTTGGT\n",
      "H000076_01\tUDP-glucose ceramide glucosyltransferase\t23703\t7357\tD50840\tUGCG\tTATGGGACCCAACTATAAGCTGGAGAACTGGTCGCTACAGATTACGCTGTGGGGGTACAGCAGAGGAAAT\n",
      "H000077_01\tRAD1 homolog (S. pombe)\t7179\t5810\tAF030933\tRAD1\tGCGGAGGTTGTGGTGAGCTGAAATGACGCCATTGCACTCCAGCCTAGGCAATAAGAGCAAAACTCTGCCT\n",
      "H000078_01\tHomo sapiens cDNA FLJ10705 fis, clone NT2RP3000850\t311002\t\tAK001567\t\tCCGTGGGGAAGTCTTCCTCAAGTGGGGTTCAGTCTGTAATTTTCCTGTCTGTTCTTAGTTTGTTCTGAGT\n",
      "H000079_01\tcryptochrome 1 (photolyase-like)\t151573\t1407\tD83702\tCRY1\tGCACTAATTAGAAAACATTCAGGAGGAATACTGTTGCAGCTGAAATTGGTGGGGAGTTCAATAGCTTTTC\n",
      "H000080_01\tactin, alpha 2, smooth muscle, aorta\t195851\t59\tX13839\tACTA2\tGTCCACCGCAAATGCTTCTAAAACACTTTCCTGCTCCTCTCTGTCTCTAGCACACAACTGTGAATGTCCT\n",
      "H000081_01\tfolylpolyglutamate synthase\t754\t2356\tM98045\tFPGS\tTCTTGCCATGTGCTGGGTGGTAGATTTCCTCCTCCCAGTGCCTTCTGGGAAGGGAGAGGGCCTCTGCCTG\n",
      "H000082_01\tdeiodinase, iodothyronine, type II\t154424\t1734\tNM_013989\tDIO2\tTCCCTGGCAAGGAGAATATGCGGGACATGATGCTAAGAGCCCTGGGTAAATGTGGTGAGAATGCACGCGT\n",
      "H000083_01\tH2A histone family, member Z\t119192\t3015\tM37583\tH2AFZ\tCAGAAGACTGTCTAAAGGATGCCTGGATTCCTTGTTATCTCAGGACTCTAAATACTCTAACAGCTGTCCA\n",
      "H000084_01\t\t\t\tAL031281\t\tGGAACCCTAGAGCAGCCAGGTGAGGCTCTCTAGTTTAATAAAAATCATGGAAAGACTCTTAATGCAGACT\n",
      "H000085_01\tcytochrome c oxidase subunit VIb\t174031\t1340\tX13923\tCOX6B\tTACCCAGTGATCCCCACCCCAGGATCCTAAATCATGACTTACCTGCTAATAAAAACTCATTGGAAAAGTG\n",
      "H000086_01\tthree prime repair exonuclease 2\t251398\t11219\tNM_007205\tTREX2\tGCCGCCAGGCAGGGCCCATCTGCCTTGTGGCCCACAATGGCTTTGATTATGATTTCCCCCTGCTGTGTGC\n",
      "H000087_01\ttransforming growth factor beta 1 induced transcript 1\t25511\t7041\tAB007836\tTGFB1I1\tTTGCTCCCTGCACCCTCACTGTTCTGTGCACTTTTTCTACCTACATAAACACACGCATGACACACGCATG\n",
      "H000088_01\tproteasome (prosome, macropain) 26S subunit, ATPase, 2\t61153\t5701\tD11094\tPSMC2\tACAGAGGCTGGTATGTTTGCCATCAGAGCACGGCGAAAAATTGCTACCGAGAAGGATTTCTTGGAAGCTG\n",
      "H000089_01\tinterferon, alpha 5\t37113\t3442\tV00541\tIFNA5\tGGAAGACACTCCTCTGATGAATGTGGACTCTATCCTGACTGTGAGAAAATACTTTCAAAGAATCACCCTC\n",
      "H000090_01\tRAD50 homolog (S. cerevisiae)\t41587\t10111\tZ75311\tRAD50\tTCTCTTGCACATGCTCTGGTTGAGATAATAAAAAGTCGCTCACAGCAGCGTAACTTCCAGCTTCTGGTAA\n",
      "H000091_01\tendonuclease G\t182418\t2021\tX79444\tENDOG\tTGATCCTGGAGGCAGCAGGTGGGCAAATTGAGCTCCGCACCTACGTGATGCCCAACGCACCTGTGGATGA\n"
     ]
    }
   ],
   "source": [
    "import gzip\n",
    "\n",
    "soft_file = \"./GSE344_family.soft.gz\"\n",
    "\n",
    "# Print the first 200 lines to find the actual data section\n",
    "with gzip.open(soft_file, \"rt\") as f:\n",
    "    for i in range(200):  # Increase to 200 lines\n",
    "        print(f.readline().strip())\n"
   ]
  },
  {
   "cell_type": "code",
   "execution_count": 10,
   "id": "d3dc43ee-5dec-412b-84c1-6627e43d726d",
   "metadata": {},
   "outputs": [
    {
     "ename": "ParserError",
     "evalue": "Error tokenizing data. C error: Expected 8 fields in line 35433, saw 16\n",
     "output_type": "error",
     "traceback": [
      "\u001b[1;31m---------------------------------------------------------------------------\u001b[0m",
      "\u001b[1;31mParserError\u001b[0m                               Traceback (most recent call last)",
      "Cell \u001b[1;32mIn[10], line 19\u001b[0m\n\u001b[0;32m     16\u001b[0m table_lines \u001b[38;5;241m=\u001b[39m lines[start_index:]\n\u001b[0;32m     18\u001b[0m \u001b[38;5;66;03m# Convert to Pandas DataFrame\u001b[39;00m\n\u001b[1;32m---> 19\u001b[0m df \u001b[38;5;241m=\u001b[39m \u001b[43mpd\u001b[49m\u001b[38;5;241;43m.\u001b[39;49m\u001b[43mread_csv\u001b[49m\u001b[43m(\u001b[49m\u001b[43mStringIO\u001b[49m\u001b[43m(\u001b[49m\u001b[38;5;124;43m\"\u001b[39;49m\u001b[38;5;124;43m\"\u001b[39;49m\u001b[38;5;241;43m.\u001b[39;49m\u001b[43mjoin\u001b[49m\u001b[43m(\u001b[49m\u001b[43mtable_lines\u001b[49m\u001b[43m)\u001b[49m\u001b[43m)\u001b[49m\u001b[43m,\u001b[49m\u001b[43m \u001b[49m\u001b[43msep\u001b[49m\u001b[38;5;241;43m=\u001b[39;49m\u001b[38;5;124;43m\"\u001b[39;49m\u001b[38;5;130;43;01m\\t\u001b[39;49;00m\u001b[38;5;124;43m\"\u001b[39;49m\u001b[43m)\u001b[49m\n\u001b[0;32m     21\u001b[0m \u001b[38;5;66;03m# Display first 5 rows\u001b[39;00m\n\u001b[0;32m     22\u001b[0m df\u001b[38;5;241m.\u001b[39mhead()\n",
      "File \u001b[1;32m~\\OneDrive\\Desktop\\bio_data_governance\\datagove_env\\lib\\site-packages\\pandas\\io\\parsers\\readers.py:1026\u001b[0m, in \u001b[0;36mread_csv\u001b[1;34m(filepath_or_buffer, sep, delimiter, header, names, index_col, usecols, dtype, engine, converters, true_values, false_values, skipinitialspace, skiprows, skipfooter, nrows, na_values, keep_default_na, na_filter, verbose, skip_blank_lines, parse_dates, infer_datetime_format, keep_date_col, date_parser, date_format, dayfirst, cache_dates, iterator, chunksize, compression, thousands, decimal, lineterminator, quotechar, quoting, doublequote, escapechar, comment, encoding, encoding_errors, dialect, on_bad_lines, delim_whitespace, low_memory, memory_map, float_precision, storage_options, dtype_backend)\u001b[0m\n\u001b[0;32m   1013\u001b[0m kwds_defaults \u001b[38;5;241m=\u001b[39m _refine_defaults_read(\n\u001b[0;32m   1014\u001b[0m     dialect,\n\u001b[0;32m   1015\u001b[0m     delimiter,\n\u001b[1;32m   (...)\u001b[0m\n\u001b[0;32m   1022\u001b[0m     dtype_backend\u001b[38;5;241m=\u001b[39mdtype_backend,\n\u001b[0;32m   1023\u001b[0m )\n\u001b[0;32m   1024\u001b[0m kwds\u001b[38;5;241m.\u001b[39mupdate(kwds_defaults)\n\u001b[1;32m-> 1026\u001b[0m \u001b[38;5;28;01mreturn\u001b[39;00m \u001b[43m_read\u001b[49m\u001b[43m(\u001b[49m\u001b[43mfilepath_or_buffer\u001b[49m\u001b[43m,\u001b[49m\u001b[43m \u001b[49m\u001b[43mkwds\u001b[49m\u001b[43m)\u001b[49m\n",
      "File \u001b[1;32m~\\OneDrive\\Desktop\\bio_data_governance\\datagove_env\\lib\\site-packages\\pandas\\io\\parsers\\readers.py:626\u001b[0m, in \u001b[0;36m_read\u001b[1;34m(filepath_or_buffer, kwds)\u001b[0m\n\u001b[0;32m    623\u001b[0m     \u001b[38;5;28;01mreturn\u001b[39;00m parser\n\u001b[0;32m    625\u001b[0m \u001b[38;5;28;01mwith\u001b[39;00m parser:\n\u001b[1;32m--> 626\u001b[0m     \u001b[38;5;28;01mreturn\u001b[39;00m \u001b[43mparser\u001b[49m\u001b[38;5;241;43m.\u001b[39;49m\u001b[43mread\u001b[49m\u001b[43m(\u001b[49m\u001b[43mnrows\u001b[49m\u001b[43m)\u001b[49m\n",
      "File \u001b[1;32m~\\OneDrive\\Desktop\\bio_data_governance\\datagove_env\\lib\\site-packages\\pandas\\io\\parsers\\readers.py:1923\u001b[0m, in \u001b[0;36mTextFileReader.read\u001b[1;34m(self, nrows)\u001b[0m\n\u001b[0;32m   1916\u001b[0m nrows \u001b[38;5;241m=\u001b[39m validate_integer(\u001b[38;5;124m\"\u001b[39m\u001b[38;5;124mnrows\u001b[39m\u001b[38;5;124m\"\u001b[39m, nrows)\n\u001b[0;32m   1917\u001b[0m \u001b[38;5;28;01mtry\u001b[39;00m:\n\u001b[0;32m   1918\u001b[0m     \u001b[38;5;66;03m# error: \"ParserBase\" has no attribute \"read\"\u001b[39;00m\n\u001b[0;32m   1919\u001b[0m     (\n\u001b[0;32m   1920\u001b[0m         index,\n\u001b[0;32m   1921\u001b[0m         columns,\n\u001b[0;32m   1922\u001b[0m         col_dict,\n\u001b[1;32m-> 1923\u001b[0m     ) \u001b[38;5;241m=\u001b[39m \u001b[38;5;28;43mself\u001b[39;49m\u001b[38;5;241;43m.\u001b[39;49m\u001b[43m_engine\u001b[49m\u001b[38;5;241;43m.\u001b[39;49m\u001b[43mread\u001b[49m\u001b[43m(\u001b[49m\u001b[43m  \u001b[49m\u001b[38;5;66;43;03m# type: ignore[attr-defined]\u001b[39;49;00m\n\u001b[0;32m   1924\u001b[0m \u001b[43m        \u001b[49m\u001b[43mnrows\u001b[49m\n\u001b[0;32m   1925\u001b[0m \u001b[43m    \u001b[49m\u001b[43m)\u001b[49m\n\u001b[0;32m   1926\u001b[0m \u001b[38;5;28;01mexcept\u001b[39;00m \u001b[38;5;167;01mException\u001b[39;00m:\n\u001b[0;32m   1927\u001b[0m     \u001b[38;5;28mself\u001b[39m\u001b[38;5;241m.\u001b[39mclose()\n",
      "File \u001b[1;32m~\\OneDrive\\Desktop\\bio_data_governance\\datagove_env\\lib\\site-packages\\pandas\\io\\parsers\\c_parser_wrapper.py:234\u001b[0m, in \u001b[0;36mCParserWrapper.read\u001b[1;34m(self, nrows)\u001b[0m\n\u001b[0;32m    232\u001b[0m \u001b[38;5;28;01mtry\u001b[39;00m:\n\u001b[0;32m    233\u001b[0m     \u001b[38;5;28;01mif\u001b[39;00m \u001b[38;5;28mself\u001b[39m\u001b[38;5;241m.\u001b[39mlow_memory:\n\u001b[1;32m--> 234\u001b[0m         chunks \u001b[38;5;241m=\u001b[39m \u001b[38;5;28;43mself\u001b[39;49m\u001b[38;5;241;43m.\u001b[39;49m\u001b[43m_reader\u001b[49m\u001b[38;5;241;43m.\u001b[39;49m\u001b[43mread_low_memory\u001b[49m\u001b[43m(\u001b[49m\u001b[43mnrows\u001b[49m\u001b[43m)\u001b[49m\n\u001b[0;32m    235\u001b[0m         \u001b[38;5;66;03m# destructive to chunks\u001b[39;00m\n\u001b[0;32m    236\u001b[0m         data \u001b[38;5;241m=\u001b[39m _concatenate_chunks(chunks)\n",
      "File \u001b[1;32mparsers.pyx:838\u001b[0m, in \u001b[0;36mpandas._libs.parsers.TextReader.read_low_memory\u001b[1;34m()\u001b[0m\n",
      "File \u001b[1;32mparsers.pyx:905\u001b[0m, in \u001b[0;36mpandas._libs.parsers.TextReader._read_rows\u001b[1;34m()\u001b[0m\n",
      "File \u001b[1;32mparsers.pyx:874\u001b[0m, in \u001b[0;36mpandas._libs.parsers.TextReader._tokenize_rows\u001b[1;34m()\u001b[0m\n",
      "File \u001b[1;32mparsers.pyx:891\u001b[0m, in \u001b[0;36mpandas._libs.parsers.TextReader._check_tokenize_status\u001b[1;34m()\u001b[0m\n",
      "File \u001b[1;32mparsers.pyx:2061\u001b[0m, in \u001b[0;36mpandas._libs.parsers.raise_parser_error\u001b[1;34m()\u001b[0m\n",
      "\u001b[1;31mParserError\u001b[0m: Error tokenizing data. C error: Expected 8 fields in line 35433, saw 16\n"
     ]
    }
   ],
   "source": [
    "import gzip\n",
    "import pandas as pd\n",
    "from io import StringIO\n",
    "\n",
    "# Define the file path\n",
    "soft_file = \"./GSE344_family.soft.gz\"\n",
    "\n",
    "# Read the file\n",
    "with gzip.open(soft_file, \"rt\") as f:\n",
    "    lines = f.readlines()\n",
    "\n",
    "# Locate the start of the table\n",
    "start_index = [i for i, line in enumerate(lines) if \"!platform_table_begin\" in line][0] + 1\n",
    "\n",
    "# Extract only the table data\n",
    "table_lines = lines[start_index:]\n",
    "\n",
    "# Convert to Pandas DataFrame\n",
    "df = pd.read_csv(StringIO(\"\".join(table_lines)), sep=\"\\t\")\n",
    "\n",
    "# Display first 5 rows\n",
    "df.head()\n"
   ]
  },
  {
   "cell_type": "code",
   "execution_count": 11,
   "id": "f6285438-928b-46ae-8fb0-ec5c9cf53357",
   "metadata": {},
   "outputs": [
    {
     "ename": "TypeError",
     "evalue": "read_csv() got an unexpected keyword argument 'error_bad_lines'",
     "output_type": "error",
     "traceback": [
      "\u001b[1;31m---------------------------------------------------------------------------\u001b[0m",
      "\u001b[1;31mTypeError\u001b[0m                                 Traceback (most recent call last)",
      "Cell \u001b[1;32mIn[11], line 19\u001b[0m\n\u001b[0;32m     16\u001b[0m table_lines \u001b[38;5;241m=\u001b[39m lines[start_index:]\n\u001b[0;32m     18\u001b[0m \u001b[38;5;66;03m# Convert to Pandas DataFrame, allowing for errors\u001b[39;00m\n\u001b[1;32m---> 19\u001b[0m df \u001b[38;5;241m=\u001b[39m \u001b[43mpd\u001b[49m\u001b[38;5;241;43m.\u001b[39;49m\u001b[43mread_csv\u001b[49m\u001b[43m(\u001b[49m\u001b[43mStringIO\u001b[49m\u001b[43m(\u001b[49m\u001b[38;5;124;43m\"\u001b[39;49m\u001b[38;5;124;43m\"\u001b[39;49m\u001b[38;5;241;43m.\u001b[39;49m\u001b[43mjoin\u001b[49m\u001b[43m(\u001b[49m\u001b[43mtable_lines\u001b[49m\u001b[43m)\u001b[49m\u001b[43m)\u001b[49m\u001b[43m,\u001b[49m\u001b[43m \u001b[49m\u001b[43msep\u001b[49m\u001b[38;5;241;43m=\u001b[39;49m\u001b[38;5;124;43m\"\u001b[39;49m\u001b[38;5;130;43;01m\\t\u001b[39;49;00m\u001b[38;5;124;43m\"\u001b[39;49m\u001b[43m,\u001b[49m\u001b[43m \u001b[49m\u001b[43merror_bad_lines\u001b[49m\u001b[38;5;241;43m=\u001b[39;49m\u001b[38;5;28;43;01mFalse\u001b[39;49;00m\u001b[43m,\u001b[49m\u001b[43m \u001b[49m\u001b[43mwarn_bad_lines\u001b[49m\u001b[38;5;241;43m=\u001b[39;49m\u001b[38;5;28;43;01mTrue\u001b[39;49;00m\u001b[43m)\u001b[49m\n\u001b[0;32m     21\u001b[0m \u001b[38;5;66;03m# Display first 5 rows\u001b[39;00m\n\u001b[0;32m     22\u001b[0m df\u001b[38;5;241m.\u001b[39mhead()\n",
      "\u001b[1;31mTypeError\u001b[0m: read_csv() got an unexpected keyword argument 'error_bad_lines'"
     ]
    }
   ],
   "source": [
    "import pandas as pd\n",
    "from io import StringIO\n",
    "import gzip\n",
    "\n",
    "# Define file path\n",
    "soft_file = \"./GSE344_family.soft.gz\"\n",
    "\n",
    "# Read the file\n",
    "with gzip.open(soft_file, \"rt\") as f:\n",
    "    lines = f.readlines()\n",
    "\n",
    "# Find where the table starts\n",
    "start_index = [i for i, line in enumerate(lines) if \"!platform_table_begin\" in line][0] + 1\n",
    "\n",
    "# Extract only the table data\n",
    "table_lines = lines[start_index:]\n",
    "\n",
    "# Convert to Pandas DataFrame, allowing for errors\n",
    "df = pd.read_csv(StringIO(\"\".join(table_lines)), sep=\"\\t\", error_bad_lines=False, warn_bad_lines=True)\n",
    "\n",
    "# Display first 5 rows\n",
    "df.head()\n"
   ]
  },
  {
   "cell_type": "code",
   "execution_count": 12,
   "id": "81afea20-1f45-4870-9897-e6a1b0d98b72",
   "metadata": {},
   "outputs": [
    {
     "name": "stderr",
     "output_type": "stream",
     "text": [
      "C:\\Users\\reedj\\AppData\\Local\\Temp\\ipykernel_16288\\4110358454.py:19: DtypeWarning: Columns (3,4,5,6,7) have mixed types. Specify dtype option on import or set low_memory=False.\n",
      "  df = pd.read_csv(StringIO(\"\".join(table_lines)), sep=\"\\t\", on_bad_lines=\"skip\")\n"
     ]
    },
    {
     "data": {
      "text/html": [
       "<div>\n",
       "<style scoped>\n",
       "    .dataframe tbody tr th:only-of-type {\n",
       "        vertical-align: middle;\n",
       "    }\n",
       "\n",
       "    .dataframe tbody tr th {\n",
       "        vertical-align: top;\n",
       "    }\n",
       "\n",
       "    .dataframe thead th {\n",
       "        text-align: right;\n",
       "    }\n",
       "</style>\n",
       "<table border=\"1\" class=\"dataframe\">\n",
       "  <thead>\n",
       "    <tr style=\"text-align: right;\">\n",
       "      <th></th>\n",
       "      <th>ID</th>\n",
       "      <th>GENE_NAME</th>\n",
       "      <th>UNIGENE</th>\n",
       "      <th>GENE</th>\n",
       "      <th>GB_ACC</th>\n",
       "      <th>GENE_SYMBOL</th>\n",
       "      <th>SEQUENCE</th>\n",
       "      <th>SPOT_ID</th>\n",
       "    </tr>\n",
       "  </thead>\n",
       "  <tbody>\n",
       "    <tr>\n",
       "      <th>0</th>\n",
       "      <td>H000001_01</td>\n",
       "      <td>CASP8 associated protein 2</td>\n",
       "      <td>122843</td>\n",
       "      <td>9994</td>\n",
       "      <td>NM_012115</td>\n",
       "      <td>CASP8AP2</td>\n",
       "      <td>GAGGGCCATCATTTAAAACATTTGCATATTTAGCCGCCAAGTTGGA...</td>\n",
       "      <td>NaN</td>\n",
       "    </tr>\n",
       "    <tr>\n",
       "      <th>1</th>\n",
       "      <td>H000002_01</td>\n",
       "      <td>tumor suppressing subtransferable candidate 3</td>\n",
       "      <td>154036</td>\n",
       "      <td>7262</td>\n",
       "      <td>AF035444</td>\n",
       "      <td>TSSC3</td>\n",
       "      <td>CTCATCCAGTCATGCGGGGCTGGTGTGAAAGGCGCTGGGAACCGGC...</td>\n",
       "      <td>NaN</td>\n",
       "    </tr>\n",
       "    <tr>\n",
       "      <th>2</th>\n",
       "      <td>H000003_01</td>\n",
       "      <td>PEF protein with a long N-terminal hydrophobic...</td>\n",
       "      <td>241531</td>\n",
       "      <td>23578</td>\n",
       "      <td>AK001420</td>\n",
       "      <td>PEF</td>\n",
       "      <td>AATCTGACCAAGCATGAGAGAGATCTGTCTATGGGACCAGTGGCTT...</td>\n",
       "      <td>NaN</td>\n",
       "    </tr>\n",
       "    <tr>\n",
       "      <th>3</th>\n",
       "      <td>H000004_01</td>\n",
       "      <td>fumarylacetoacetate hydrolase (fumarylacetoace...</td>\n",
       "      <td>73875</td>\n",
       "      <td>2184</td>\n",
       "      <td>M55150</td>\n",
       "      <td>FAH</td>\n",
       "      <td>TCCTGCCATCATGAGATTTTCTCTGCTCTTCTGGAAACAAAGGGCT...</td>\n",
       "      <td>NaN</td>\n",
       "    </tr>\n",
       "    <tr>\n",
       "      <th>4</th>\n",
       "      <td>H000005_01</td>\n",
       "      <td>NaN</td>\n",
       "      <td>NaN</td>\n",
       "      <td>NaN</td>\n",
       "      <td>AL121964</td>\n",
       "      <td>NaN</td>\n",
       "      <td>TCCCTGTGAAACTTTGGTTTCTTTCTATAAATGTGTGTGGTTTTCA...</td>\n",
       "      <td>NaN</td>\n",
       "    </tr>\n",
       "  </tbody>\n",
       "</table>\n",
       "</div>"
      ],
      "text/plain": [
       "           ID                                          GENE_NAME UNIGENE  \\\n",
       "0  H000001_01                         CASP8 associated protein 2  122843   \n",
       "1  H000002_01      tumor suppressing subtransferable candidate 3  154036   \n",
       "2  H000003_01  PEF protein with a long N-terminal hydrophobic...  241531   \n",
       "3  H000004_01  fumarylacetoacetate hydrolase (fumarylacetoace...   73875   \n",
       "4  H000005_01                                                NaN     NaN   \n",
       "\n",
       "    GENE     GB_ACC GENE_SYMBOL  \\\n",
       "0   9994  NM_012115    CASP8AP2   \n",
       "1   7262   AF035444       TSSC3   \n",
       "2  23578   AK001420         PEF   \n",
       "3   2184     M55150         FAH   \n",
       "4    NaN   AL121964         NaN   \n",
       "\n",
       "                                            SEQUENCE SPOT_ID  \n",
       "0  GAGGGCCATCATTTAAAACATTTGCATATTTAGCCGCCAAGTTGGA...     NaN  \n",
       "1  CTCATCCAGTCATGCGGGGCTGGTGTGAAAGGCGCTGGGAACCGGC...     NaN  \n",
       "2  AATCTGACCAAGCATGAGAGAGATCTGTCTATGGGACCAGTGGCTT...     NaN  \n",
       "3  TCCTGCCATCATGAGATTTTCTCTGCTCTTCTGGAAACAAAGGGCT...     NaN  \n",
       "4  TCCCTGTGAAACTTTGGTTTCTTTCTATAAATGTGTGTGGTTTTCA...     NaN  "
      ]
     },
     "execution_count": 12,
     "metadata": {},
     "output_type": "execute_result"
    }
   ],
   "source": [
    "import pandas as pd\n",
    "from io import StringIO\n",
    "import gzip\n",
    "\n",
    "# Define file path\n",
    "soft_file = \"./GSE344_family.soft.gz\"\n",
    "\n",
    "# Read the file\n",
    "with gzip.open(soft_file, \"rt\") as f:\n",
    "    lines = f.readlines()\n",
    "\n",
    "# Find where the table starts\n",
    "start_index = [i for i, line in enumerate(lines) if \"!platform_table_begin\" in line][0] + 1\n",
    "\n",
    "# Extract only the table data\n",
    "table_lines = lines[start_index:]\n",
    "\n",
    "# Convert to Pandas DataFrame, allowing for errors\n",
    "df = pd.read_csv(StringIO(\"\".join(table_lines)), sep=\"\\t\", on_bad_lines=\"skip\")\n",
    "\n",
    "# Display first 5 rows\n",
    "df.head()\n"
   ]
  },
  {
   "cell_type": "code",
   "execution_count": 13,
   "id": "a006a5ce-934f-4ba4-97b7-4324ae786824",
   "metadata": {},
   "outputs": [
    {
     "name": "stdout",
     "output_type": "stream",
     "text": [
      "ID                  0\n",
      "GENE_NAME        4402\n",
      "UNIGENE         67496\n",
      "GENE           354257\n",
      "GB_ACC         345644\n",
      "GENE_SYMBOL    354250\n",
      "SEQUENCE       345632\n",
      "SPOT_ID        380915\n",
      "dtype: int64\n"
     ]
    }
   ],
   "source": [
    "#Count Missing Values per column\n",
    "missing_values = df.isnull().sum()\n",
    "print(missing_values)"
   ]
  },
  {
   "cell_type": "code",
   "execution_count": 15,
   "id": "3bce91ad-bdee-42e0-a451-957ac199f69b",
   "metadata": {},
   "outputs": [
    {
     "data": {
      "text/html": [
       "<div>\n",
       "<style scoped>\n",
       "    .dataframe tbody tr th:only-of-type {\n",
       "        vertical-align: middle;\n",
       "    }\n",
       "\n",
       "    .dataframe tbody tr th {\n",
       "        vertical-align: top;\n",
       "    }\n",
       "\n",
       "    .dataframe thead th {\n",
       "        text-align: right;\n",
       "    }\n",
       "</style>\n",
       "<table border=\"1\" class=\"dataframe\">\n",
       "  <thead>\n",
       "    <tr style=\"text-align: right;\">\n",
       "      <th></th>\n",
       "      <th>ID</th>\n",
       "      <th>GENE_NAME</th>\n",
       "      <th>UNIGENE</th>\n",
       "      <th>GENE</th>\n",
       "      <th>GB_ACC</th>\n",
       "      <th>GENE_SYMBOL</th>\n",
       "    </tr>\n",
       "  </thead>\n",
       "  <tbody>\n",
       "    <tr>\n",
       "      <th>0</th>\n",
       "      <td>H000001_01</td>\n",
       "      <td>CASP8 associated protein 2</td>\n",
       "      <td>122843</td>\n",
       "      <td>9994</td>\n",
       "      <td>NM_012115</td>\n",
       "      <td>CASP8AP2</td>\n",
       "    </tr>\n",
       "    <tr>\n",
       "      <th>1</th>\n",
       "      <td>H000002_01</td>\n",
       "      <td>tumor suppressing subtransferable candidate 3</td>\n",
       "      <td>154036</td>\n",
       "      <td>7262</td>\n",
       "      <td>AF035444</td>\n",
       "      <td>TSSC3</td>\n",
       "    </tr>\n",
       "    <tr>\n",
       "      <th>2</th>\n",
       "      <td>H000003_01</td>\n",
       "      <td>PEF protein with a long N-terminal hydrophobic...</td>\n",
       "      <td>241531</td>\n",
       "      <td>23578</td>\n",
       "      <td>AK001420</td>\n",
       "      <td>PEF</td>\n",
       "    </tr>\n",
       "    <tr>\n",
       "      <th>3</th>\n",
       "      <td>H000004_01</td>\n",
       "      <td>fumarylacetoacetate hydrolase (fumarylacetoace...</td>\n",
       "      <td>73875</td>\n",
       "      <td>2184</td>\n",
       "      <td>M55150</td>\n",
       "      <td>FAH</td>\n",
       "    </tr>\n",
       "    <tr>\n",
       "      <th>4</th>\n",
       "      <td>H000005_01</td>\n",
       "      <td>NaN</td>\n",
       "      <td>NaN</td>\n",
       "      <td>NaN</td>\n",
       "      <td>AL121964</td>\n",
       "      <td>NaN</td>\n",
       "    </tr>\n",
       "  </tbody>\n",
       "</table>\n",
       "</div>"
      ],
      "text/plain": [
       "           ID                                          GENE_NAME UNIGENE  \\\n",
       "0  H000001_01                         CASP8 associated protein 2  122843   \n",
       "1  H000002_01      tumor suppressing subtransferable candidate 3  154036   \n",
       "2  H000003_01  PEF protein with a long N-terminal hydrophobic...  241531   \n",
       "3  H000004_01  fumarylacetoacetate hydrolase (fumarylacetoace...   73875   \n",
       "4  H000005_01                                                NaN     NaN   \n",
       "\n",
       "    GENE     GB_ACC GENE_SYMBOL  \n",
       "0   9994  NM_012115    CASP8AP2  \n",
       "1   7262   AF035444       TSSC3  \n",
       "2  23578   AK001420         PEF  \n",
       "3   2184     M55150         FAH  \n",
       "4    NaN   AL121964         NaN  "
      ]
     },
     "execution_count": 15,
     "metadata": {},
     "output_type": "execute_result"
    }
   ],
   "source": [
    "#Drop Unnecessary columns\n",
    "df_cleaned = df.drop(columns=[\"SEQUENCE\", \"SPOT_ID\"])\n",
    "\n",
    "#Display first 5 rows\n",
    "df_cleaned.head()"
   ]
  },
  {
   "cell_type": "code",
   "execution_count": 16,
   "id": "c9407545-dec6-4892-9183-580ab1ec6dcc",
   "metadata": {},
   "outputs": [
    {
     "name": "stdout",
     "output_type": "stream",
     "text": [
      "Data after cleaning: (376543, 6)\n"
     ]
    }
   ],
   "source": [
    "#Remove rows where essential columns lik \"GENE_NAME\"\n",
    "df_cleaned = df_cleaned.dropna(subset=[\"GENE_NAME\"])\n",
    "\n",
    "#Display new shape of the data\n",
    "print(f\"Data after cleaning: {df_cleaned.shape}\")"
   ]
  },
  {
   "cell_type": "code",
   "execution_count": 17,
   "id": "793d9a04-6cf9-43fb-a22f-7ef4de9f1a53",
   "metadata": {},
   "outputs": [
    {
     "name": "stdout",
     "output_type": "stream",
     "text": [
      "['CASP8 ASSOCIATED PROTEIN 2'\n",
      " 'TUMOR SUPPRESSING SUBTRANSFERABLE CANDIDATE 3'\n",
      " 'PEF PROTEIN WITH A LONG N-TERMINAL HYDROPHOBIC DOMAIN (PEFLIN)'\n",
      " 'FUMARYLACETOACETATE HYDROLASE (FUMARYLACETOACETASE)' 'PEROXIREDOXIN 5'\n",
      " 'PROGRAMMED CELL DEATH 6'\n",
      " 'V-AKT MURINE THYMOMA VIRAL ONCOGENE HOMOLOG 3 (PROTEIN KINASE B, GAMMA)'\n",
      " 'NUCLEAR FACTOR OF ACTIVATED T-CELLS, CYTOPLASMIC, CALCINEURIN-DEPENDENT 2'\n",
      " 'NON-METASTATIC CELLS 5, PROTEIN EXPRESSED IN (NUCLEOSIDE-DIPHOSPHATE KINASE)'\n",
      " 'LAMIN A/C']\n"
     ]
    }
   ],
   "source": [
    "#Standardize column names\n",
    "df_cleaned[\"GENE_NAME\"] = df_cleaned[\"GENE_NAME\"].str.strip().str.upper()\n",
    "\n",
    "#Display unique values of the first 10 gene names\n",
    "print(df_cleaned[\"GENE_NAME\"].unique()[:10])"
   ]
  },
  {
   "cell_type": "code",
   "execution_count": 18,
   "id": "aff25982-f591-4bac-b363-fcf20119301e",
   "metadata": {},
   "outputs": [
    {
     "name": "stdout",
     "output_type": "stream",
     "text": [
      "Cleaned data saved!\n"
     ]
    }
   ],
   "source": [
    "df_cleaned.to_csv(\"cleaned_gene_expression_GSE344.csv\", index=False)\n",
    "print(\"Cleaned data saved!\")\n"
   ]
  },
  {
   "cell_type": "code",
   "execution_count": 20,
   "id": "69fe51d8-fec1-4da9-9820-bbbe3b003090",
   "metadata": {},
   "outputs": [
    {
     "ename": "ValueError",
     "evalue": "could not convert string to float: 'GENE'",
     "output_type": "error",
     "traceback": [
      "\u001b[1;31m---------------------------------------------------------------------------\u001b[0m",
      "\u001b[1;31mValueError\u001b[0m                                Traceback (most recent call last)",
      "Cell \u001b[1;32mIn[20], line 5\u001b[0m\n\u001b[0;32m      2\u001b[0m \u001b[38;5;28;01mimport\u001b[39;00m\u001b[38;5;250m \u001b[39m\u001b[38;5;21;01mseaborn\u001b[39;00m\u001b[38;5;250m \u001b[39m\u001b[38;5;28;01mas\u001b[39;00m\u001b[38;5;250m \u001b[39m\u001b[38;5;21;01msns\u001b[39;00m\n\u001b[0;32m      4\u001b[0m plt\u001b[38;5;241m.\u001b[39mfigure(figsize\u001b[38;5;241m=\u001b[39m(\u001b[38;5;241m12\u001b[39m,\u001b[38;5;241m6\u001b[39m))\n\u001b[1;32m----> 5\u001b[0m sns\u001b[38;5;241m.\u001b[39mhistplot(\u001b[43mdf_cleaned\u001b[49m\u001b[43m[\u001b[49m\u001b[38;5;124;43m\"\u001b[39;49m\u001b[38;5;124;43mGENE\u001b[39;49m\u001b[38;5;124;43m\"\u001b[39;49m\u001b[43m]\u001b[49m\u001b[38;5;241;43m.\u001b[39;49m\u001b[43mastype\u001b[49m\u001b[43m(\u001b[49m\u001b[38;5;28;43mfloat\u001b[39;49m\u001b[43m)\u001b[49m, bins\u001b[38;5;241m=\u001b[39m\u001b[38;5;241m50\u001b[39m, kde\u001b[38;5;241m=\u001b[39m\u001b[38;5;28;01mTrue\u001b[39;00m)\n\u001b[0;32m      6\u001b[0m plt\u001b[38;5;241m.\u001b[39mxlabel(\u001b[38;5;124m\"\u001b[39m\u001b[38;5;124mGene ID\u001b[39m\u001b[38;5;124m\"\u001b[39m)\n\u001b[0;32m      7\u001b[0m plt\u001b[38;5;241m.\u001b[39mylabel(\u001b[38;5;124m\"\u001b[39m\u001b[38;5;124mFrequency\u001b[39m\u001b[38;5;124m\"\u001b[39m)\n",
      "File \u001b[1;32m~\\OneDrive\\Desktop\\bio_data_governance\\datagove_env\\lib\\site-packages\\pandas\\core\\generic.py:6643\u001b[0m, in \u001b[0;36mNDFrame.astype\u001b[1;34m(self, dtype, copy, errors)\u001b[0m\n\u001b[0;32m   6637\u001b[0m     results \u001b[38;5;241m=\u001b[39m [\n\u001b[0;32m   6638\u001b[0m         ser\u001b[38;5;241m.\u001b[39mastype(dtype, copy\u001b[38;5;241m=\u001b[39mcopy, errors\u001b[38;5;241m=\u001b[39merrors) \u001b[38;5;28;01mfor\u001b[39;00m _, ser \u001b[38;5;129;01min\u001b[39;00m \u001b[38;5;28mself\u001b[39m\u001b[38;5;241m.\u001b[39mitems()\n\u001b[0;32m   6639\u001b[0m     ]\n\u001b[0;32m   6641\u001b[0m \u001b[38;5;28;01melse\u001b[39;00m:\n\u001b[0;32m   6642\u001b[0m     \u001b[38;5;66;03m# else, only a single dtype is given\u001b[39;00m\n\u001b[1;32m-> 6643\u001b[0m     new_data \u001b[38;5;241m=\u001b[39m \u001b[38;5;28;43mself\u001b[39;49m\u001b[38;5;241;43m.\u001b[39;49m\u001b[43m_mgr\u001b[49m\u001b[38;5;241;43m.\u001b[39;49m\u001b[43mastype\u001b[49m\u001b[43m(\u001b[49m\u001b[43mdtype\u001b[49m\u001b[38;5;241;43m=\u001b[39;49m\u001b[43mdtype\u001b[49m\u001b[43m,\u001b[49m\u001b[43m \u001b[49m\u001b[43mcopy\u001b[49m\u001b[38;5;241;43m=\u001b[39;49m\u001b[43mcopy\u001b[49m\u001b[43m,\u001b[49m\u001b[43m \u001b[49m\u001b[43merrors\u001b[49m\u001b[38;5;241;43m=\u001b[39;49m\u001b[43merrors\u001b[49m\u001b[43m)\u001b[49m\n\u001b[0;32m   6644\u001b[0m     res \u001b[38;5;241m=\u001b[39m \u001b[38;5;28mself\u001b[39m\u001b[38;5;241m.\u001b[39m_constructor_from_mgr(new_data, axes\u001b[38;5;241m=\u001b[39mnew_data\u001b[38;5;241m.\u001b[39maxes)\n\u001b[0;32m   6645\u001b[0m     \u001b[38;5;28;01mreturn\u001b[39;00m res\u001b[38;5;241m.\u001b[39m__finalize__(\u001b[38;5;28mself\u001b[39m, method\u001b[38;5;241m=\u001b[39m\u001b[38;5;124m\"\u001b[39m\u001b[38;5;124mastype\u001b[39m\u001b[38;5;124m\"\u001b[39m)\n",
      "File \u001b[1;32m~\\OneDrive\\Desktop\\bio_data_governance\\datagove_env\\lib\\site-packages\\pandas\\core\\internals\\managers.py:430\u001b[0m, in \u001b[0;36mBaseBlockManager.astype\u001b[1;34m(self, dtype, copy, errors)\u001b[0m\n\u001b[0;32m    427\u001b[0m \u001b[38;5;28;01melif\u001b[39;00m using_copy_on_write():\n\u001b[0;32m    428\u001b[0m     copy \u001b[38;5;241m=\u001b[39m \u001b[38;5;28;01mFalse\u001b[39;00m\n\u001b[1;32m--> 430\u001b[0m \u001b[38;5;28;01mreturn\u001b[39;00m \u001b[38;5;28;43mself\u001b[39;49m\u001b[38;5;241;43m.\u001b[39;49m\u001b[43mapply\u001b[49m\u001b[43m(\u001b[49m\n\u001b[0;32m    431\u001b[0m \u001b[43m    \u001b[49m\u001b[38;5;124;43m\"\u001b[39;49m\u001b[38;5;124;43mastype\u001b[39;49m\u001b[38;5;124;43m\"\u001b[39;49m\u001b[43m,\u001b[49m\n\u001b[0;32m    432\u001b[0m \u001b[43m    \u001b[49m\u001b[43mdtype\u001b[49m\u001b[38;5;241;43m=\u001b[39;49m\u001b[43mdtype\u001b[49m\u001b[43m,\u001b[49m\n\u001b[0;32m    433\u001b[0m \u001b[43m    \u001b[49m\u001b[43mcopy\u001b[49m\u001b[38;5;241;43m=\u001b[39;49m\u001b[43mcopy\u001b[49m\u001b[43m,\u001b[49m\n\u001b[0;32m    434\u001b[0m \u001b[43m    \u001b[49m\u001b[43merrors\u001b[49m\u001b[38;5;241;43m=\u001b[39;49m\u001b[43merrors\u001b[49m\u001b[43m,\u001b[49m\n\u001b[0;32m    435\u001b[0m \u001b[43m    \u001b[49m\u001b[43musing_cow\u001b[49m\u001b[38;5;241;43m=\u001b[39;49m\u001b[43musing_copy_on_write\u001b[49m\u001b[43m(\u001b[49m\u001b[43m)\u001b[49m\u001b[43m,\u001b[49m\n\u001b[0;32m    436\u001b[0m \u001b[43m\u001b[49m\u001b[43m)\u001b[49m\n",
      "File \u001b[1;32m~\\OneDrive\\Desktop\\bio_data_governance\\datagove_env\\lib\\site-packages\\pandas\\core\\internals\\managers.py:363\u001b[0m, in \u001b[0;36mBaseBlockManager.apply\u001b[1;34m(self, f, align_keys, **kwargs)\u001b[0m\n\u001b[0;32m    361\u001b[0m         applied \u001b[38;5;241m=\u001b[39m b\u001b[38;5;241m.\u001b[39mapply(f, \u001b[38;5;241m*\u001b[39m\u001b[38;5;241m*\u001b[39mkwargs)\n\u001b[0;32m    362\u001b[0m     \u001b[38;5;28;01melse\u001b[39;00m:\n\u001b[1;32m--> 363\u001b[0m         applied \u001b[38;5;241m=\u001b[39m \u001b[38;5;28mgetattr\u001b[39m(b, f)(\u001b[38;5;241m*\u001b[39m\u001b[38;5;241m*\u001b[39mkwargs)\n\u001b[0;32m    364\u001b[0m     result_blocks \u001b[38;5;241m=\u001b[39m extend_blocks(applied, result_blocks)\n\u001b[0;32m    366\u001b[0m out \u001b[38;5;241m=\u001b[39m \u001b[38;5;28mtype\u001b[39m(\u001b[38;5;28mself\u001b[39m)\u001b[38;5;241m.\u001b[39mfrom_blocks(result_blocks, \u001b[38;5;28mself\u001b[39m\u001b[38;5;241m.\u001b[39maxes)\n",
      "File \u001b[1;32m~\\OneDrive\\Desktop\\bio_data_governance\\datagove_env\\lib\\site-packages\\pandas\\core\\internals\\blocks.py:758\u001b[0m, in \u001b[0;36mBlock.astype\u001b[1;34m(self, dtype, copy, errors, using_cow, squeeze)\u001b[0m\n\u001b[0;32m    755\u001b[0m         \u001b[38;5;28;01mraise\u001b[39;00m \u001b[38;5;167;01mValueError\u001b[39;00m(\u001b[38;5;124m\"\u001b[39m\u001b[38;5;124mCan not squeeze with more than one column.\u001b[39m\u001b[38;5;124m\"\u001b[39m)\n\u001b[0;32m    756\u001b[0m     values \u001b[38;5;241m=\u001b[39m values[\u001b[38;5;241m0\u001b[39m, :]  \u001b[38;5;66;03m# type: ignore[call-overload]\u001b[39;00m\n\u001b[1;32m--> 758\u001b[0m new_values \u001b[38;5;241m=\u001b[39m \u001b[43mastype_array_safe\u001b[49m\u001b[43m(\u001b[49m\u001b[43mvalues\u001b[49m\u001b[43m,\u001b[49m\u001b[43m \u001b[49m\u001b[43mdtype\u001b[49m\u001b[43m,\u001b[49m\u001b[43m \u001b[49m\u001b[43mcopy\u001b[49m\u001b[38;5;241;43m=\u001b[39;49m\u001b[43mcopy\u001b[49m\u001b[43m,\u001b[49m\u001b[43m \u001b[49m\u001b[43merrors\u001b[49m\u001b[38;5;241;43m=\u001b[39;49m\u001b[43merrors\u001b[49m\u001b[43m)\u001b[49m\n\u001b[0;32m    760\u001b[0m new_values \u001b[38;5;241m=\u001b[39m maybe_coerce_values(new_values)\n\u001b[0;32m    762\u001b[0m refs \u001b[38;5;241m=\u001b[39m \u001b[38;5;28;01mNone\u001b[39;00m\n",
      "File \u001b[1;32m~\\OneDrive\\Desktop\\bio_data_governance\\datagove_env\\lib\\site-packages\\pandas\\core\\dtypes\\astype.py:237\u001b[0m, in \u001b[0;36mastype_array_safe\u001b[1;34m(values, dtype, copy, errors)\u001b[0m\n\u001b[0;32m    234\u001b[0m     dtype \u001b[38;5;241m=\u001b[39m dtype\u001b[38;5;241m.\u001b[39mnumpy_dtype\n\u001b[0;32m    236\u001b[0m \u001b[38;5;28;01mtry\u001b[39;00m:\n\u001b[1;32m--> 237\u001b[0m     new_values \u001b[38;5;241m=\u001b[39m \u001b[43mastype_array\u001b[49m\u001b[43m(\u001b[49m\u001b[43mvalues\u001b[49m\u001b[43m,\u001b[49m\u001b[43m \u001b[49m\u001b[43mdtype\u001b[49m\u001b[43m,\u001b[49m\u001b[43m \u001b[49m\u001b[43mcopy\u001b[49m\u001b[38;5;241;43m=\u001b[39;49m\u001b[43mcopy\u001b[49m\u001b[43m)\u001b[49m\n\u001b[0;32m    238\u001b[0m \u001b[38;5;28;01mexcept\u001b[39;00m (\u001b[38;5;167;01mValueError\u001b[39;00m, \u001b[38;5;167;01mTypeError\u001b[39;00m):\n\u001b[0;32m    239\u001b[0m     \u001b[38;5;66;03m# e.g. _astype_nansafe can fail on object-dtype of strings\u001b[39;00m\n\u001b[0;32m    240\u001b[0m     \u001b[38;5;66;03m#  trying to convert to float\u001b[39;00m\n\u001b[0;32m    241\u001b[0m     \u001b[38;5;28;01mif\u001b[39;00m errors \u001b[38;5;241m==\u001b[39m \u001b[38;5;124m\"\u001b[39m\u001b[38;5;124mignore\u001b[39m\u001b[38;5;124m\"\u001b[39m:\n",
      "File \u001b[1;32m~\\OneDrive\\Desktop\\bio_data_governance\\datagove_env\\lib\\site-packages\\pandas\\core\\dtypes\\astype.py:182\u001b[0m, in \u001b[0;36mastype_array\u001b[1;34m(values, dtype, copy)\u001b[0m\n\u001b[0;32m    179\u001b[0m     values \u001b[38;5;241m=\u001b[39m values\u001b[38;5;241m.\u001b[39mastype(dtype, copy\u001b[38;5;241m=\u001b[39mcopy)\n\u001b[0;32m    181\u001b[0m \u001b[38;5;28;01melse\u001b[39;00m:\n\u001b[1;32m--> 182\u001b[0m     values \u001b[38;5;241m=\u001b[39m \u001b[43m_astype_nansafe\u001b[49m\u001b[43m(\u001b[49m\u001b[43mvalues\u001b[49m\u001b[43m,\u001b[49m\u001b[43m \u001b[49m\u001b[43mdtype\u001b[49m\u001b[43m,\u001b[49m\u001b[43m \u001b[49m\u001b[43mcopy\u001b[49m\u001b[38;5;241;43m=\u001b[39;49m\u001b[43mcopy\u001b[49m\u001b[43m)\u001b[49m\n\u001b[0;32m    184\u001b[0m \u001b[38;5;66;03m# in pandas we don't store numpy str dtypes, so convert to object\u001b[39;00m\n\u001b[0;32m    185\u001b[0m \u001b[38;5;28;01mif\u001b[39;00m \u001b[38;5;28misinstance\u001b[39m(dtype, np\u001b[38;5;241m.\u001b[39mdtype) \u001b[38;5;129;01mand\u001b[39;00m \u001b[38;5;28missubclass\u001b[39m(values\u001b[38;5;241m.\u001b[39mdtype\u001b[38;5;241m.\u001b[39mtype, \u001b[38;5;28mstr\u001b[39m):\n",
      "File \u001b[1;32m~\\OneDrive\\Desktop\\bio_data_governance\\datagove_env\\lib\\site-packages\\pandas\\core\\dtypes\\astype.py:133\u001b[0m, in \u001b[0;36m_astype_nansafe\u001b[1;34m(arr, dtype, copy, skipna)\u001b[0m\n\u001b[0;32m    129\u001b[0m     \u001b[38;5;28;01mraise\u001b[39;00m \u001b[38;5;167;01mValueError\u001b[39;00m(msg)\n\u001b[0;32m    131\u001b[0m \u001b[38;5;28;01mif\u001b[39;00m copy \u001b[38;5;129;01mor\u001b[39;00m arr\u001b[38;5;241m.\u001b[39mdtype \u001b[38;5;241m==\u001b[39m \u001b[38;5;28mobject\u001b[39m \u001b[38;5;129;01mor\u001b[39;00m dtype \u001b[38;5;241m==\u001b[39m \u001b[38;5;28mobject\u001b[39m:\n\u001b[0;32m    132\u001b[0m     \u001b[38;5;66;03m# Explicit copy, or required since NumPy can't view from / to object.\u001b[39;00m\n\u001b[1;32m--> 133\u001b[0m     \u001b[38;5;28;01mreturn\u001b[39;00m \u001b[43marr\u001b[49m\u001b[38;5;241;43m.\u001b[39;49m\u001b[43mastype\u001b[49m\u001b[43m(\u001b[49m\u001b[43mdtype\u001b[49m\u001b[43m,\u001b[49m\u001b[43m \u001b[49m\u001b[43mcopy\u001b[49m\u001b[38;5;241;43m=\u001b[39;49m\u001b[38;5;28;43;01mTrue\u001b[39;49;00m\u001b[43m)\u001b[49m\n\u001b[0;32m    135\u001b[0m \u001b[38;5;28;01mreturn\u001b[39;00m arr\u001b[38;5;241m.\u001b[39mastype(dtype, copy\u001b[38;5;241m=\u001b[39mcopy)\n",
      "\u001b[1;31mValueError\u001b[0m: could not convert string to float: 'GENE'"
     ]
    },
    {
     "data": {
      "text/plain": [
       "<Figure size 1200x600 with 0 Axes>"
      ]
     },
     "metadata": {},
     "output_type": "display_data"
    }
   ],
   "source": [
    "import matplotlib.pyplot as plt\n",
    "import seaborn as sns\n",
    "\n",
    "plt.figure(figsize=(12,6))\n",
    "sns.histplot(df_cleaned[\"GENE\"].astype(float), bins=50, kde=True)\n",
    "plt.xlabel(\"Gene ID\")\n",
    "plt.ylabel(\"Frequency\")\n",
    "plt.title(\"Distribution of Gene IDs in Dataset\")\n",
    "plt.show()"
   ]
  },
  {
   "cell_type": "code",
   "execution_count": 21,
   "id": "3737ab8d-0129-4e76-a90c-2d2734c5b6cf",
   "metadata": {},
   "outputs": [
    {
     "name": "stdout",
     "output_type": "stream",
     "text": [
      "0      9994\n",
      "1      7262\n",
      "2     23578\n",
      "3      2184\n",
      "5     25824\n",
      "6     10016\n",
      "7     10000\n",
      "8      4773\n",
      "9      8382\n",
      "10     4000\n",
      "Name: GENE, dtype: object\n",
      "object\n"
     ]
    }
   ],
   "source": [
    "print(df_cleaned[\"GENE\"].head(10))  # Check the first 10 rows\n",
    "print(df_cleaned[\"GENE\"].dtype)  # Check the data type\n"
   ]
  },
  {
   "cell_type": "code",
   "execution_count": 22,
   "id": "a47b6886-5b9f-4d0f-b50c-a13ba399d51c",
   "metadata": {},
   "outputs": [
    {
     "name": "stdout",
     "output_type": "stream",
     "text": [
      "float64\n"
     ]
    }
   ],
   "source": [
    "# Convert the \"GENE\" column from object (text) to float\n",
    "df_cleaned[\"GENE\"] = pd.to_numeric(df_cleaned[\"GENE\"], errors=\"coerce\")\n",
    "\n",
    "# Check the new data type\n",
    "print(df_cleaned[\"GENE\"].dtype)\n"
   ]
  },
  {
   "cell_type": "code",
   "execution_count": 23,
   "id": "3a7cb5af-a0a8-40e1-871f-e85251768424",
   "metadata": {},
   "outputs": [
    {
     "data": {
      "image/png": "[encoded data removed]",
      "text/plain": [
       "<Figure size 1200x600 with 1 Axes>"
      ]
     },
     "metadata": {},
     "output_type": "display_data"
    }
   ],
   "source": [
    "import matplotlib.pyplot as plt\n",
    "import seaborn as sns\n",
    "\n",
    "plt.figure(figsize=(12, 6))\n",
    "sns.histplot(df_cleaned[\"GENE\"], bins=50, kde=True)\n",
    "plt.xlabel(\"Gene ID\")\n",
    "plt.ylabel(\"Frequency\")\n",
    "plt.title(\"Distribution of Gene IDs in Dataset\")\n",
    "plt.show()\n"
   ]
  },
  {
   "cell_type": "code",
   "execution_count": 24,
   "id": "b47abf10-19f9-4921-85b4-1add4887bda2",
   "metadata": {},
   "outputs": [
    {
     "name": "stdout",
     "output_type": "stream",
     "text": [
      "Cleaned dataset saved successfully!\n"
     ]
    }
   ],
   "source": [
    "df_cleaned.to_csv(\"cleaned_gene_expression_GSE344.csv\", index=False)\n",
    "print(\"Cleaned dataset saved successfully!\")\n"
   ]
  },
  {
   "cell_type": "code",
   "execution_count": null,
   "id": "4f893bf6-5568-45a3-9ac1-e72d155ea17d",
   "metadata": {},
   "outputs": [],
   "source": []
  }
 ],
 "metadata": {
  "kernelspec": {
   "display_name": "Python 3 (ipykernel)",
   "language": "python",
   "name": "python3"
  },
  "language_info": {
   "codemirror_mode": {
    "name": "ipython",
    "version": 3
   },
   "file_extension": ".py",
   "mimetype": "text/x-python",
   "name": "python",
   "nbconvert_exporter": "python",
   "pygments_lexer": "ipython3",
   "version": "3.9.13"
  }
 },
 "nbformat": 4,
 "nbformat_minor": 5
}
